{
 "cells": [
  {
   "cell_type": "markdown",
   "metadata": {},
   "source": [
    "#  Eryk Wdowiak and Aren Carpenter\n",
    "###  ROUGH DRAFT -- Module 2 Statistics Assignment\n",
    "####  17 July 2020"
   ]
  },
  {
   "cell_type": "markdown",
   "metadata": {},
   "source": [
    "## Case Background & Key Questions\t\n",
    "\n",
    "Flatiron Health Insurance (FHI) is a growing private healthcare insurance provider founded on the premise that using data and analytics can improve the health insurance industry by providing better care and offerings to its patients. Every year, the Center for Disease Control (CDC) conducts surveys to understand the latest demographic, health, and fitness trends. You have been tasked with analyzing the recently published results of his years’ survey and providing your recommendations back to the Chief Analytics Officer and Chief Marketing Officer. You have been assigned the task of taking a first look at the data and beginning to answer several key questions:\n",
    "\t\t\t\t\t\t\t\t\t\t\t \t\t\t\t\t\t\t\t\n",
    "1)  How does health status, represented by average number of days with bad physical health in the past month (PHYSHLTH), differ by state? Also provide an indication of distribution using whatever statistics you find suitable.\n",
    " \t\t\t\t\t\t\t\t\t\t\t\t \t\t\t\t\t\t\t\t\n",
    "2)  Digging deeper into the data, what are some factors that impact health (i.e. demographics, behaviors, previous illness, etc.)?\t\n",
    "\t\t\t\t\t\t \t\t\t\t\t\t\n",
    "To get you started, the IT department formatted the data set into a tab delimited text file for only NY, NJ, and CT (FHI’s primary markets) called `case_study.csv`. Below you will find a list of steps/questions that you will need to take in your investigation. The first part of the notebook will be focused on cleaning up your data and visualizing it.  The second part of the data set will be focused on performing statistical tests to make statements with statistical significance.  \n"
   ]
  },
  {
   "cell_type": "code",
   "execution_count": 1,
   "metadata": {},
   "outputs": [
    {
     "name": "stderr",
     "output_type": "stream",
     "text": [
      "/usr/lib/python3/dist-packages/statsmodels/compat/pandas.py:56: FutureWarning: The pandas.core.datetools module is deprecated and will be removed in a future version. Please use the pandas.tseries module instead.\n",
      "  from pandas.core import datetools\n"
     ]
    }
   ],
   "source": [
    "import pandas as pd\n",
    "import matplotlib.pyplot as plt\n",
    "import numpy as np\n",
    "%matplotlib inline\n",
    "from scipy import stats\n",
    "import statsmodels.api as sm"
   ]
  },
  {
   "cell_type": "markdown",
   "metadata": {},
   "source": [
    "# pd.read_csv('case_study.csv')"
   ]
  },
  {
   "cell_type": "code",
   "execution_count": 2,
   "metadata": {},
   "outputs": [
    {
     "name": "stderr",
     "output_type": "stream",
     "text": [
      "/usr/lib/python3/dist-packages/IPython/core/interactiveshell.py:2714: DtypeWarning: Columns (171) have mixed types. Specify dtype option on import or set low_memory=False.\n",
      "  interactivity=interactivity, compiler=compiler, result=result)\n"
     ]
    }
   ],
   "source": [
    "#Load our dataframe account for the index columns\n",
    "df = pd.read_csv('case_study.csv', index_col=0)"
   ]
  },
  {
   "cell_type": "code",
   "execution_count": 3,
   "metadata": {},
   "outputs": [
    {
     "data": {
      "text/html": [
       "<div>\n",
       "<style scoped>\n",
       "    .dataframe tbody tr th:only-of-type {\n",
       "        vertical-align: middle;\n",
       "    }\n",
       "\n",
       "    .dataframe tbody tr th {\n",
       "        vertical-align: top;\n",
       "    }\n",
       "\n",
       "    .dataframe thead th {\n",
       "        text-align: right;\n",
       "    }\n",
       "</style>\n",
       "<table border=\"1\" class=\"dataframe\">\n",
       "  <thead>\n",
       "    <tr style=\"text-align: right;\">\n",
       "      <th></th>\n",
       "      <th>_STATE</th>\n",
       "      <th>FMONTH</th>\n",
       "      <th>IDATE</th>\n",
       "      <th>IMONTH</th>\n",
       "      <th>IDAY</th>\n",
       "      <th>IYEAR</th>\n",
       "      <th>DISPCODE</th>\n",
       "      <th>SEQNO</th>\n",
       "      <th>_PSU</th>\n",
       "      <th>CTELENM1</th>\n",
       "      <th>...</th>\n",
       "      <th>_PA300R2</th>\n",
       "      <th>_PA30021</th>\n",
       "      <th>_PASTRNG</th>\n",
       "      <th>_PAREC1</th>\n",
       "      <th>_PASTAE1</th>\n",
       "      <th>_RFSEAT2</th>\n",
       "      <th>_RFSEAT3</th>\n",
       "      <th>_FLSHOT6</th>\n",
       "      <th>_PNEUMO2</th>\n",
       "      <th>_AIDTST3</th>\n",
       "    </tr>\n",
       "  </thead>\n",
       "  <tbody>\n",
       "    <tr>\n",
       "      <th>49938</th>\n",
       "      <td>9.0</td>\n",
       "      <td>5.0</td>\n",
       "      <td>5172017</td>\n",
       "      <td>5</td>\n",
       "      <td>17</td>\n",
       "      <td>2017</td>\n",
       "      <td>1200.0</td>\n",
       "      <td>2017000001</td>\n",
       "      <td>2.017000e+09</td>\n",
       "      <td>NaN</td>\n",
       "      <td>...</td>\n",
       "      <td>2.0</td>\n",
       "      <td>2.0</td>\n",
       "      <td>2.0</td>\n",
       "      <td>4.0</td>\n",
       "      <td>2.0</td>\n",
       "      <td>1.0</td>\n",
       "      <td>1.0</td>\n",
       "      <td>NaN</td>\n",
       "      <td>NaN</td>\n",
       "      <td>1.0</td>\n",
       "    </tr>\n",
       "    <tr>\n",
       "      <th>49939</th>\n",
       "      <td>9.0</td>\n",
       "      <td>2.0</td>\n",
       "      <td>2142017</td>\n",
       "      <td>2</td>\n",
       "      <td>14</td>\n",
       "      <td>2017</td>\n",
       "      <td>1200.0</td>\n",
       "      <td>2017000002</td>\n",
       "      <td>2.017000e+09</td>\n",
       "      <td>NaN</td>\n",
       "      <td>...</td>\n",
       "      <td>1.0</td>\n",
       "      <td>1.0</td>\n",
       "      <td>1.0</td>\n",
       "      <td>1.0</td>\n",
       "      <td>1.0</td>\n",
       "      <td>2.0</td>\n",
       "      <td>2.0</td>\n",
       "      <td>NaN</td>\n",
       "      <td>NaN</td>\n",
       "      <td>2.0</td>\n",
       "    </tr>\n",
       "    <tr>\n",
       "      <th>49940</th>\n",
       "      <td>9.0</td>\n",
       "      <td>1.0</td>\n",
       "      <td>1292017</td>\n",
       "      <td>1</td>\n",
       "      <td>29</td>\n",
       "      <td>2017</td>\n",
       "      <td>1200.0</td>\n",
       "      <td>2017000003</td>\n",
       "      <td>2.017000e+09</td>\n",
       "      <td>NaN</td>\n",
       "      <td>...</td>\n",
       "      <td>3.0</td>\n",
       "      <td>2.0</td>\n",
       "      <td>1.0</td>\n",
       "      <td>3.0</td>\n",
       "      <td>2.0</td>\n",
       "      <td>1.0</td>\n",
       "      <td>1.0</td>\n",
       "      <td>NaN</td>\n",
       "      <td>NaN</td>\n",
       "      <td>2.0</td>\n",
       "    </tr>\n",
       "    <tr>\n",
       "      <th>49941</th>\n",
       "      <td>9.0</td>\n",
       "      <td>7.0</td>\n",
       "      <td>9112017</td>\n",
       "      <td>9</td>\n",
       "      <td>11</td>\n",
       "      <td>2017</td>\n",
       "      <td>1200.0</td>\n",
       "      <td>2017000004</td>\n",
       "      <td>2.017000e+09</td>\n",
       "      <td>NaN</td>\n",
       "      <td>...</td>\n",
       "      <td>2.0</td>\n",
       "      <td>2.0</td>\n",
       "      <td>2.0</td>\n",
       "      <td>2.0</td>\n",
       "      <td>2.0</td>\n",
       "      <td>1.0</td>\n",
       "      <td>1.0</td>\n",
       "      <td>NaN</td>\n",
       "      <td>NaN</td>\n",
       "      <td>1.0</td>\n",
       "    </tr>\n",
       "    <tr>\n",
       "      <th>49942</th>\n",
       "      <td>9.0</td>\n",
       "      <td>5.0</td>\n",
       "      <td>7182017</td>\n",
       "      <td>7</td>\n",
       "      <td>18</td>\n",
       "      <td>2017</td>\n",
       "      <td>1200.0</td>\n",
       "      <td>2017000005</td>\n",
       "      <td>2.017000e+09</td>\n",
       "      <td>NaN</td>\n",
       "      <td>...</td>\n",
       "      <td>2.0</td>\n",
       "      <td>2.0</td>\n",
       "      <td>1.0</td>\n",
       "      <td>1.0</td>\n",
       "      <td>1.0</td>\n",
       "      <td>1.0</td>\n",
       "      <td>1.0</td>\n",
       "      <td>NaN</td>\n",
       "      <td>NaN</td>\n",
       "      <td>2.0</td>\n",
       "    </tr>\n",
       "  </tbody>\n",
       "</table>\n",
       "<p>5 rows × 358 columns</p>\n",
       "</div>"
      ],
      "text/plain": [
       "       _STATE  FMONTH    IDATE  IMONTH  IDAY  IYEAR  DISPCODE       SEQNO  \\\n",
       "49938     9.0     5.0  5172017       5    17   2017    1200.0  2017000001   \n",
       "49939     9.0     2.0  2142017       2    14   2017    1200.0  2017000002   \n",
       "49940     9.0     1.0  1292017       1    29   2017    1200.0  2017000003   \n",
       "49941     9.0     7.0  9112017       9    11   2017    1200.0  2017000004   \n",
       "49942     9.0     5.0  7182017       7    18   2017    1200.0  2017000005   \n",
       "\n",
       "               _PSU  CTELENM1    ...     _PA300R2  _PA30021  _PASTRNG  \\\n",
       "49938  2.017000e+09       NaN    ...          2.0       2.0       2.0   \n",
       "49939  2.017000e+09       NaN    ...          1.0       1.0       1.0   \n",
       "49940  2.017000e+09       NaN    ...          3.0       2.0       1.0   \n",
       "49941  2.017000e+09       NaN    ...          2.0       2.0       2.0   \n",
       "49942  2.017000e+09       NaN    ...          2.0       2.0       1.0   \n",
       "\n",
       "       _PAREC1  _PASTAE1  _RFSEAT2  _RFSEAT3  _FLSHOT6  _PNEUMO2  _AIDTST3  \n",
       "49938      4.0       2.0       1.0       1.0       NaN       NaN       1.0  \n",
       "49939      1.0       1.0       2.0       2.0       NaN       NaN       2.0  \n",
       "49940      3.0       2.0       1.0       1.0       NaN       NaN       2.0  \n",
       "49941      2.0       2.0       1.0       1.0       NaN       NaN       1.0  \n",
       "49942      1.0       1.0       1.0       1.0       NaN       NaN       2.0  \n",
       "\n",
       "[5 rows x 358 columns]"
      ]
     },
     "execution_count": 3,
     "metadata": {},
     "output_type": "execute_result"
    }
   ],
   "source": [
    "#print(list(df.columns))\n",
    "df.head()"
   ]
  },
  {
   "cell_type": "code",
   "execution_count": 4,
   "metadata": {},
   "outputs": [
    {
     "data": {
      "text/plain": [
       "(34545, 358)"
      ]
     },
     "execution_count": 4,
     "metadata": {},
     "output_type": "execute_result"
    }
   ],
   "source": [
    "# Quickly check to see the size of our DF, both rows and columns\n",
    "df.shape"
   ]
  },
  {
   "cell_type": "code",
   "execution_count": 5,
   "metadata": {},
   "outputs": [],
   "source": [
    "#df['PHYSHLTH'].value_counts()"
   ]
  },
  {
   "cell_type": "markdown",
   "metadata": {},
   "source": [
    "## Subset your dataframe to only include the states in the tri-state area (NJ, CT, NY)"
   ]
  },
  {
   "cell_type": "code",
   "execution_count": 6,
   "metadata": {},
   "outputs": [],
   "source": [
    "# your code here\n",
    "tristate = df[df['_STATE'].isin([9,34,36])]\n",
    "tristate['state'] = np.where(tristate['_STATE'] == 9,'Connecticut',\n",
    "                             np.where(tristate['_STATE'] == 34,'New Jersey',\n",
    "                                      np.where(tristate['_STATE'] == 36,'New York','ERROR')))\n",
    "tristate['ones'] = np.ones(tristate.shape[0])"
   ]
  },
  {
   "cell_type": "markdown",
   "metadata": {},
   "source": [
    "Now check to see how large our subset df."
   ]
  },
  {
   "cell_type": "code",
   "execution_count": 7,
   "metadata": {},
   "outputs": [
    {
     "data": {
      "text/plain": [
       "(34545, 360)"
      ]
     },
     "execution_count": 7,
     "metadata": {},
     "output_type": "execute_result"
    }
   ],
   "source": [
    "# your code here\n",
    "tristate.shape"
   ]
  },
  {
   "cell_type": "markdown",
   "metadata": {},
   "source": [
    "**PHYSHLTH** is the column we are interested in for this analysis, so let's start to investigate the column. Since we have a data cookbook, a.k.a. data dictionary) we want to start there before looking at the code."
   ]
  },
  {
   "cell_type": "code",
   "execution_count": 8,
   "metadata": {
    "scrolled": true
   },
   "outputs": [
    {
     "data": {
      "text/plain": [
       "count    34545.000000\n",
       "mean        60.213403\n",
       "std         37.504566\n",
       "min          1.000000\n",
       "25%         15.000000\n",
       "50%         88.000000\n",
       "75%         88.000000\n",
       "max         99.000000\n",
       "Name: PHYSHLTH, dtype: float64"
      ]
     },
     "execution_count": 8,
     "metadata": {},
     "output_type": "execute_result"
    }
   ],
   "source": [
    "tristate['PHYSHLTH'].describe()"
   ]
  },
  {
   "cell_type": "markdown",
   "metadata": {},
   "source": [
    "## 1. Handle the non-normal values\n",
    "\n",
    "As you can see from the data dictionary, there are a number of responses that are coded with values that could throw off our descriptive statistics.  Let's clean up by mapping the responses to a more appropriate value, and handling any missing values.  "
   ]
  },
  {
   "cell_type": "code",
   "execution_count": 9,
   "metadata": {},
   "outputs": [],
   "source": [
    "#your code here\n",
    "tristate['PHYSHLTH'] = np.where(tristate['PHYSHLTH'] == 77, np.NaN,\n",
    "                                np.where(tristate['PHYSHLTH'] == 99, np.NaN,\n",
    "                                         np.where(tristate['PHYSHLTH'] == 88, 0, tristate['PHYSHLTH'])))"
   ]
  },
  {
   "cell_type": "markdown",
   "metadata": {},
   "source": [
    "## 2. Generate the descriptive statistics\n",
    "\n",
    "Now that our target variable is cleaned up lets calculate the descriptive statistics, generate a graph that quickly shows those statistics, and generate a graph shows the distribution of the data."
   ]
  },
  {
   "cell_type": "code",
   "execution_count": 10,
   "metadata": {},
   "outputs": [
    {
     "data": {
      "text/plain": [
       "count    33747.000000\n",
       "mean         4.085341\n",
       "std          8.513293\n",
       "min          0.000000\n",
       "25%          0.000000\n",
       "50%          0.000000\n",
       "75%          3.000000\n",
       "max         30.000000\n",
       "Name: PHYSHLTH, dtype: float64"
      ]
     },
     "execution_count": 10,
     "metadata": {},
     "output_type": "execute_result"
    }
   ],
   "source": [
    "# descriptive statistics\n",
    "tristate['PHYSHLTH'].describe()"
   ]
  },
  {
   "cell_type": "code",
   "execution_count": 11,
   "metadata": {},
   "outputs": [
    {
     "name": "stdout",
     "output_type": "stream",
     "text": [
      "observations:      34545\n",
      "obs. w/ physhlth:  33747\n",
      "without physhlth:    798\n"
     ]
    }
   ],
   "source": [
    "print('observations:      ' + str(len(tristate['PHYSHLTH'])))\n",
    "print('obs. w/ physhlth:  ' + str(len(tristate['PHYSHLTH'][tristate['PHYSHLTH'].isna() == False])))\n",
    "print('without physhlth:    ' + str(len(tristate['PHYSHLTH'][tristate['PHYSHLTH'].isna() == True])))"
   ]
  },
  {
   "cell_type": "code",
   "execution_count": 12,
   "metadata": {},
   "outputs": [],
   "source": [
    "physhlth = tristate['PHYSHLTH'][tristate['PHYSHLTH'].isna() == False]"
   ]
  },
  {
   "cell_type": "code",
   "execution_count": 13,
   "metadata": {},
   "outputs": [
    {
     "data": {
      "image/png": "[encoded data removed]",
      "text/plain": [
       "<Figure size 432x288 with 1 Axes>"
      ]
     },
     "metadata": {
      "needs_background": "light"
     },
     "output_type": "display_data"
    }
   ],
   "source": [
    "fig1, ax1 = plt.subplots()\n",
    "ax1.set_title('Number of Days Physical Health Not Good')\n",
    "ax1.set_ylabel('days sick')\n",
    "ax1.boxplot(physhlth);"
   ]
  },
  {
   "cell_type": "code",
   "execution_count": 14,
   "metadata": {},
   "outputs": [
    {
     "data": {
      "image/png": "[encoded data removed]",
      "text/plain": [
       "<Figure size 432x288 with 1 Axes>"
      ]
     },
     "metadata": {
      "needs_background": "light"
     },
     "output_type": "display_data"
    }
   ],
   "source": [
    "# graphic the distribution of data\n",
    "fig1, ax1 = plt.subplots()\n",
    "ax1.set_title('Number of Days Physical Health Not Good')\n",
    "ax1.set_xlabel('days sick')\n",
    "ax1.hist(physhlth);"
   ]
  },
  {
   "cell_type": "markdown",
   "metadata": {},
   "source": [
    "## 3. Generate a graphic that compares the average number of sick days for each state. "
   ]
  },
  {
   "cell_type": "code",
   "execution_count": 15,
   "metadata": {},
   "outputs": [
    {
     "data": {
      "text/plain": [
       "state\n",
       "Connecticut    3.688562\n",
       "New Jersey     4.380957\n",
       "New York       4.148030\n",
       "Name: PHYSHLTH, dtype: float64"
      ]
     },
     "execution_count": 15,
     "metadata": {},
     "output_type": "execute_result"
    }
   ],
   "source": [
    "# code to calculate the average number of sick days by state\n",
    "avgsick = tristate.groupby('state')['PHYSHLTH'].mean()\n",
    "avgsick"
   ]
  },
  {
   "cell_type": "code",
   "execution_count": 16,
   "metadata": {},
   "outputs": [
    {
     "data": {
      "image/png": "[encoded data removed]",
      "text/plain": [
       "<Figure size 432x288 with 1 Axes>"
      ]
     },
     "metadata": {
      "needs_background": "light"
     },
     "output_type": "display_data"
    }
   ],
   "source": [
    "# code to graph those averages using matplotlib\n",
    "xx_ticks = np.arange(3)\n",
    "fig1, ax1 = plt.subplots()\n",
    "ax1.set_title('Average Days Physical Health Not Good by State')\n",
    "ax1.set_ylabel('days sick')\n",
    "plt.bar(xx_ticks,avgsick);\n",
    "plt.xticks(xx_ticks,avgsick.index);"
   ]
  },
  {
   "cell_type": "code",
   "execution_count": 17,
   "metadata": {},
   "outputs": [
    {
     "data": {
      "image/png": "[encoded data removed]",
      "text/plain": [
       "<Figure size 432x288 with 1 Axes>"
      ]
     },
     "metadata": {
      "needs_background": "light"
     },
     "output_type": "display_data"
    }
   ],
   "source": [
    "# graphic showing the histogram of data\n",
    "\n",
    "##  group states\n",
    "trisick = tristate[['state','PHYSHLTH']].groupby('state')\n",
    "#trisick['PHYSHLTH'].head()\n",
    "trisick['PHYSHLTH'].hist();"
   ]
  },
  {
   "cell_type": "code",
   "execution_count": 18,
   "metadata": {},
   "outputs": [
    {
     "name": "stderr",
     "output_type": "stream",
     "text": [
      "/home/eryk/.local/lib/python3.7/site-packages/numpy/lib/histograms.py:824: RuntimeWarning: invalid value encountered in greater_equal\n",
      "  keep = (tmp_a >= first_edge)\n",
      "/home/eryk/.local/lib/python3.7/site-packages/numpy/lib/histograms.py:825: RuntimeWarning: invalid value encountered in less_equal\n",
      "  keep &= (tmp_a <= last_edge)\n"
     ]
    },
    {
     "data": {
      "image/png": "[encoded data removed]",
      "text/plain": [
       "<Figure size 432x288 with 1 Axes>"
      ]
     },
     "metadata": {
      "needs_background": "light"
     },
     "output_type": "display_data"
    }
   ],
   "source": [
    "# graphic showing the histogram of data\n",
    "##  Sean's code\n",
    "\n",
    "fig, ax = plt.subplots()\n",
    "# Plot a histogram of \"Weight\" for mens_rowing\n",
    "ax.hist(tristate[tristate['_STATE']==9]['PHYSHLTH'], bins=15, density=True, histtype='step', label='Conn')\n",
    "ax.hist(tristate[tristate['_STATE']==34]['PHYSHLTH'], bins=15, density=True,histtype='step', label='NJ')\n",
    "ax.hist(tristate[tristate['_STATE']==36]['PHYSHLTH'], bins=15, density=True,histtype='step', label='NY')\n",
    "\n",
    "# Set labels and title\n",
    "ax.set_xlabel('Sick Days')\n",
    "ax.set_ylabel('number of observations')\n",
    "ax.set_title(\"Number of Days Physical Health Not Good\")\n",
    "ax.legend()\n",
    "\n",
    "plt.show()"
   ]
  },
  {
   "cell_type": "markdown",
   "metadata": {},
   "source": [
    "## 4. Turn the number of sick days into a classification of of chronically sick people.  \n",
    "\n",
    "Chronically sick people account for a significant proportion of the costs for health insurers. If we can identify what leads people to be chronically sick, we can address them with specific treatments.\n",
    "\n"
   ]
  },
  {
   "cell_type": "code",
   "execution_count": 19,
   "metadata": {},
   "outputs": [],
   "source": [
    "# code to create new column for chronically sick\n",
    "tristate['chron'] = np.where(pd.isna(tristate['PHYSHLTH']), np.NaN,\n",
    "                             np.where(tristate['PHYSHLTH']>12, 1, 0))"
   ]
  },
  {
   "cell_type": "markdown",
   "metadata": {},
   "source": [
    "## 5. Create a graphic that compares the percentage of people labeled as 'sick' in each state. "
   ]
  },
  {
   "cell_type": "code",
   "execution_count": 20,
   "metadata": {},
   "outputs": [
    {
     "data": {
      "text/plain": [
       "state\n",
       "Connecticut    0.112744\n",
       "New Jersey     0.136935\n",
       "New York       0.126810\n",
       "Name: chron, dtype: float64"
      ]
     },
     "execution_count": 20,
     "metadata": {},
     "output_type": "execute_result"
    }
   ],
   "source": [
    "# code to calculate averages per state\n",
    "avgchron = tristate.groupby('state')['chron'].mean()\n",
    "avgchron"
   ]
  },
  {
   "cell_type": "code",
   "execution_count": 21,
   "metadata": {},
   "outputs": [
    {
     "data": {
      "image/png": "[encoded data removed]",
      "text/plain": [
       "<Figure size 432x288 with 1 Axes>"
      ]
     },
     "metadata": {
      "needs_background": "light"
     },
     "output_type": "display_data"
    }
   ],
   "source": [
    "# code to graph those averages using matplotlib\n",
    "xx_ticks = np.arange(3)\n",
    "fig1, ax1 = plt.subplots()\n",
    "ax1.set_title('Percentage Chronically Sick by State')\n",
    "ax1.set_ylabel('percentage')\n",
    "plt.bar(xx_ticks,100*avgchron);\n",
    "plt.xticks(xx_ticks,avgchron.index);"
   ]
  },
  {
   "cell_type": "markdown",
   "metadata": {},
   "source": [
    "## 6. Independent Variables (categorical)\n",
    "\n",
    "Does smoking affect the number of days people feel physically ill? \n",
    "Let's take the column `SMOKDAY2` and start to prepare it so that we can see how it is possibly correlated to `PHYSHLTH`. When cleaning this data you will find that many respondents were not asked that question. read the codebook to understand why, and use that information when cleaning up your data. I.E, you will need to process two columns in order to create a new column of smokers.\n",
    "\n",
    "1. Clean up the values.\n",
    "2. Calculate the descriptive statistics of the variable.\n",
    "3. Generate a histogram for the variable.\n",
    "4. Generate graphics that show how the responses to this variable might differ by state.\n",
    "5. Generate a graphic that compares the physical health of the different groups of 'smokers'."
   ]
  },
  {
   "cell_type": "code",
   "execution_count": 22,
   "metadata": {},
   "outputs": [],
   "source": [
    "tristate['smoker'] = np.where(tristate['SMOKE100']==7,\"don't know\",\n",
    "                              np.where(tristate['SMOKE100']==9,'refused',\n",
    "                                       np.where(tristate['SMOKE100']==2,'non-smoker',\n",
    "                                                np.where(tristate['SMOKDAY2']==7,\"don't know\",\n",
    "                                                         np.where(tristate['SMOKDAY2']==9,'refused',\n",
    "                                                                  np.where(tristate['SMOKDAY2']==3,'non-smoker',\n",
    "                                                                           np.where(tristate['SMOKDAY2']==2,'some days',\n",
    "                                                                                    np.where(tristate['SMOKDAY2']==1,'everyday',np.NaN))))))))                   "
   ]
  },
  {
   "cell_type": "code",
   "execution_count": 23,
   "metadata": {},
   "outputs": [
    {
     "data": {
      "text/plain": [
       "smoker\n",
       "non-smoker    0.833406\n",
       "everyday      0.077464\n",
       "some days     0.039687\n",
       "don't know    0.005211\n",
       "refused       0.002258\n",
       "Name: state, dtype: float64"
      ]
     },
     "execution_count": 23,
     "metadata": {},
     "output_type": "execute_result"
    }
   ],
   "source": [
    "smokers = tristate.groupby('smoker').count()['state']\n",
    "smokers = smokers[[3,1,5,0,4]] / smokers.sum()\n",
    "smokers"
   ]
  },
  {
   "cell_type": "code",
   "execution_count": 24,
   "metadata": {},
   "outputs": [
    {
     "data": {
      "image/png": "[encoded data removed]",
      "text/plain": [
       "<Figure size 432x288 with 1 Axes>"
      ]
     },
     "metadata": {
      "needs_background": "light"
     },
     "output_type": "display_data"
    }
   ],
   "source": [
    "# code to graph those proportion of differen smoking groups using matplotlib\n",
    "xx_ticks = np.arange(len(smokers.index))\n",
    "fig1, ax1 = plt.subplots()\n",
    "ax1.set_title('Smoking Status')\n",
    "ax1.set_ylabel('percentage')\n",
    "plt.bar(xx_ticks,smokers);\n",
    "plt.xticks(xx_ticks,smokers.index);"
   ]
  },
  {
   "cell_type": "code",
   "execution_count": 25,
   "metadata": {},
   "outputs": [
    {
     "data": {
      "text/plain": [
       "smoker\n",
       "non-smoker    0.859122\n",
       "some days     0.046127\n",
       "everyday      0.089157\n",
       "don't know    0.002668\n",
       "refused       0.002926\n",
       "Name: smoker, dtype: float64"
      ]
     },
     "execution_count": 25,
     "metadata": {},
     "output_type": "execute_result"
    }
   ],
   "source": [
    "smoker_states = tristate[['state','smoker']]\n",
    "smoker_valid = [idx for idx, val in enumerate(smoker_states['smoker']) if val != 'nan']\n",
    "smoker_states = smoker_states.iloc[smoker_valid]\n",
    "\n",
    "smoker_states = smoker_states.groupby(['state','smoker'])['smoker'].count()\n",
    "smoker_count = smoker_states.groupby('state').sum()\n",
    "smoker_pct = smoker_states / smoker_count\n",
    "\n",
    "#smoker_pct['Connecticut'][[2,4,1,0,3]]\n",
    "#smoker_pct['New Jersey'][[2,4,1,0,3]]\n",
    "smoker_pct['New York'][[2,4,1,0,3]]"
   ]
  },
  {
   "cell_type": "code",
   "execution_count": 26,
   "metadata": {},
   "outputs": [
    {
     "data": {
      "image/png": "[encoded data removed]",
      "text/plain": [
       "<Figure size 432x288 with 1 Axes>"
      ]
     },
     "metadata": {
      "needs_background": "light"
     },
     "output_type": "display_data"
    }
   ],
   "source": [
    "nonsmoker = [smoker_pct['Connecticut'][[2]][0],\n",
    "             smoker_pct['New Jersey'][[2]][0],\n",
    "             smoker_pct['New York'][[2]][0]]\n",
    "\n",
    "some_days = [smoker_pct['Connecticut'][[4]][0],\n",
    "             smoker_pct['New Jersey'][[4]][0],\n",
    "             smoker_pct['New York'][[4]][0]]\n",
    "\n",
    "every_day = [smoker_pct['Connecticut'][[1]][0],\n",
    "             smoker_pct['New Jersey'][[1]][0],\n",
    "             smoker_pct['New York'][[1]][0]]\n",
    "\n",
    "smoke_unk = [smoker_pct['Connecticut'][[0]][0],  #+smoker_pct['Connecticut'][[3]][0],\n",
    "             smoker_pct['New Jersey'][[0]][0],   #+smoker_pct['New Jersey'][[3]][0],\n",
    "             smoker_pct['New York'][[0]][0]]     #+smoker_pct['New York'][[3]][0]]\n",
    "\n",
    "none_some = list(np.array(nonsmoker) + np.array(some_days))\n",
    "none_some_unk = list(np.array(nonsmoker) + np.array(some_days) + np.array(every_day))\n",
    "\n",
    "xx_ticks = [0,1,2]\n",
    "fig1, ax1 = plt.subplots()\n",
    "ax1.set_title('Smoking Frequency by State')\n",
    "ax1.set_ylabel('percentage')\n",
    "pns = plt.bar(xx_ticks,nonsmoker,color='lightgray')\n",
    "psd = plt.bar(xx_ticks,some_days,bottom=nonsmoker,color='orange')\n",
    "ped = plt.bar(xx_ticks,every_day,bottom=none_some,color='red')\n",
    "#puk = plt.bar(xx_ticks,every_day,bottom=none_some_unk)\n",
    "plt.xticks(xx_ticks,['Connecticut','New Jersey','New York']);\n",
    "#plt.legend((puk[0],ped[0],psd[0],pns[0]),(\"don't know\",'everyday','somedays','non-smoker'))\n",
    "plt.legend((ped[0],psd[0],pns[0]),('everyday','somedays','non-smoker'),loc='lower right')\n",
    "\n",
    "del nonsmoker, some_days, every_day, none_some, none_some_unk, pns, psd, ped #, puk"
   ]
  },
  {
   "cell_type": "code",
   "execution_count": 27,
   "metadata": {},
   "outputs": [
    {
     "data": {
      "image/png": "[encoded data removed]",
      "text/plain": [
       "<Figure size 432x288 with 1 Axes>"
      ]
     },
     "metadata": {
      "needs_background": "light"
     },
     "output_type": "display_data"
    }
   ],
   "source": [
    "# code to graph these averages sick days for each category of smoking status\n",
    "smoker_health = tristate[['smoker','PHYSHLTH']]\n",
    "smoker_valid = [idx for idx, val in enumerate(smoker_health['smoker']) if val != 'nan']\n",
    "smoker_health = smoker_health.iloc[smoker_valid]\n",
    "health_valid = [idx for idx, val in enumerate(smoker_health['PHYSHLTH']) if val != 'nan']\n",
    "smoker_health = smoker_health.iloc[health_valid]\n",
    "\n",
    "smoker_physhlth = smoker_health.groupby('smoker').mean()\n",
    "smoker_physhlth = smoker_physhlth['PHYSHLTH'][[2,4,1,0,3]]\n",
    "\n",
    "xx_ticks = np.arange(len(smoker_physhlth.index))\n",
    "fig1, ax1 = plt.subplots()\n",
    "ax1.set_title('Average Days Physical Health Not Good by Smoking Status')\n",
    "ax1.set_ylabel('days')\n",
    "plt.bar(xx_ticks,list(smoker_physhlth))\n",
    "plt.xticks(xx_ticks,smoker_physhlth.index);"
   ]
  },
  {
   "cell_type": "markdown",
   "metadata": {},
   "source": [
    "## 7. Independent Variables (continuous):\n",
    "\n",
    "Does the amount of days a person drinks affect the number of days they feel physically ill?\n",
    "To investigate this, let's look at a continuous variable (ALCDAY5) and see how that might impact a person's health. \n",
    "\n",
    "1. Clean up the values.\n",
    "2. Calculate the descriptive statistics of the variable.\n",
    "3. Generate a histogram for the variable.\n",
    "4. Generate graphics that show how the responses to this variable might differ by state.\n",
    "5. Calculate the correlation coefficient between `PHYSHLTH` and `ALCDAY5`.\n",
    "5. Generate a graphic that shows the possible relationship between `PHYSHLTH` and `ALCDAY5`."
   ]
  },
  {
   "cell_type": "code",
   "execution_count": 28,
   "metadata": {},
   "outputs": [],
   "source": [
    "# code here to clean up the ALCDAY5 responses\n",
    "\n",
    "##  Sean's code\n",
    "alc_dict = {888:0, 777:np.nan, 999:np.nan}\n",
    "tristate['alcohol'] = tristate['ALCDAY5'].replace(alc_dict)\n",
    "\n",
    "##  Sean's code\n",
    "# create a function called calc_monthly\n",
    "def calc_monthly(x):\n",
    "    if x>200:\n",
    "        return x-200\n",
    "    elif x>100:\n",
    "        return min((x-100)*4.34524, 30)\n",
    "    else:\n",
    "        return x\n",
    "    \n",
    "tristate['alcohol']= tristate['alcohol'].apply(calc_monthly)"
   ]
  },
  {
   "cell_type": "code",
   "execution_count": 29,
   "metadata": {},
   "outputs": [
    {
     "data": {
      "text/plain": [
       "count    32212.000000\n",
       "mean         5.450859\n",
       "std          8.404665\n",
       "min          0.000000\n",
       "25%          0.000000\n",
       "50%          2.000000\n",
       "75%          7.000000\n",
       "max         30.000000\n",
       "Name: alcohol, dtype: float64"
      ]
     },
     "execution_count": 29,
     "metadata": {},
     "output_type": "execute_result"
    }
   ],
   "source": [
    "#descriptive statistics of cleaned data\n",
    "tristate['alcohol'].describe()"
   ]
  },
  {
   "cell_type": "code",
   "execution_count": 30,
   "metadata": {},
   "outputs": [
    {
     "name": "stderr",
     "output_type": "stream",
     "text": [
      "/home/eryk/.local/lib/python3.7/site-packages/numpy/lib/histograms.py:824: RuntimeWarning: invalid value encountered in greater_equal\n",
      "  keep = (tmp_a >= first_edge)\n",
      "/home/eryk/.local/lib/python3.7/site-packages/numpy/lib/histograms.py:825: RuntimeWarning: invalid value encountered in less_equal\n",
      "  keep &= (tmp_a <= last_edge)\n"
     ]
    },
    {
     "data": {
      "image/png": "[encoded data removed]",
      "text/plain": [
       "<Figure size 432x288 with 1 Axes>"
      ]
     },
     "metadata": {
      "needs_background": "light"
     },
     "output_type": "display_data"
    }
   ],
   "source": [
    "# graphic showing the histogram of data\n",
    "##  Sean's code\n",
    "fig, ax = plt.subplots()\n",
    "ax.hist(tristate['alcohol'], bins=31)\n",
    "ax.set_xlabel('Days Drinking')\n",
    "ax.set_ylabel('number of observations')\n",
    "ax.set_title(\"Distribution of Days Drinking\")\n",
    "plt.show()"
   ]
  },
  {
   "cell_type": "code",
   "execution_count": 31,
   "metadata": {},
   "outputs": [
    {
     "data": {
      "text/plain": [
       "_STATE\n",
       "9.0     6.166984\n",
       "34.0    5.031192\n",
       "36.0    5.233724\n",
       "Name: alcohol, dtype: float64"
      ]
     },
     "execution_count": 31,
     "metadata": {},
     "output_type": "execute_result"
    }
   ],
   "source": [
    "# code to calculate averages per state\n",
    "##  Sean's code\n",
    "alcohol_state = tristate.groupby('_STATE')['alcohol'].mean().values\n",
    "tristate.groupby('_STATE')['alcohol'].mean()"
   ]
  },
  {
   "cell_type": "code",
   "execution_count": 32,
   "metadata": {},
   "outputs": [
    {
     "data": {
      "image/png": "[encoded data removed]",
      "text/plain": [
       "<Figure size 432x288 with 1 Axes>"
      ]
     },
     "metadata": {
      "needs_background": "light"
     },
     "output_type": "display_data"
    }
   ],
   "source": [
    "##  Sean's code\n",
    "fig, ax = plt.subplots()\n",
    "\n",
    "# Add data: \"height\", \"weight\" as x-y, index as color\n",
    "ax.scatter(tristate[\"alcohol\"], tristate[\"PHYSHLTH\"])\n",
    "ax.set_xlabel(\"Drinking Days\")\n",
    "ax.set_ylabel(\"Sick Days\")\n",
    "ax.set_title('Relationship between Drinking and Health')\n",
    "plt.show()"
   ]
  },
  {
   "cell_type": "code",
   "execution_count": 33,
   "metadata": {},
   "outputs": [
    {
     "data": {
      "text/plain": [
       "PHYSHLTH    1.000000\n",
       "alcohol    -0.091154\n",
       "Name: PHYSHLTH, dtype: float64"
      ]
     },
     "execution_count": 33,
     "metadata": {},
     "output_type": "execute_result"
    }
   ],
   "source": [
    "# Code to calculate correlation of between number of dirnks of number of days physically ill\n",
    "##  Sean's code\n",
    "tristate[['PHYSHLTH', 'alcohol']].corr()['PHYSHLTH']"
   ]
  },
  {
   "cell_type": "markdown",
   "metadata": {},
   "source": [
    "## 8. Statistical Inference\n"
   ]
  },
  {
   "cell_type": "markdown",
   "metadata": {},
   "source": [
    "- Create a 95% confidence interval for the population mean of physically ill days."
   ]
  },
  {
   "cell_type": "markdown",
   "metadata": {},
   "source": [
    "-  Create a 95% confidence interval for the true proportion of chronically sick people."
   ]
  },
  {
   "cell_type": "markdown",
   "metadata": {},
   "source": [
    "## 9. Hypothesis Tests "
   ]
  },
  {
   "cell_type": "markdown",
   "metadata": {},
   "source": [
    "**For the follwing questions that require hypothesis tests, you must complete the following:**\n",
    "\n",
    "*1. Write down the null and alternative hypothesis you are testing.* \n",
    "\n",
    "*2. Select the appropriate test and calculate the test statistic and P-values.*\n",
    "\n",
    "*3. Determine the critical value for the 95% confidence interval.*\n",
    "\n",
    "*4. Evaluate the test statistic agains the critical value.*\n",
    "\n",
    "*5. Determine if you reject or fail to reject the null hypothesis and write a sentence explaining the results of your hypothesis test.*  "
   ]
  },
  {
   "cell_type": "markdown",
   "metadata": {},
   "source": [
    "### The following questions are regarding the `PHYSHLTH` variable. \n",
    "- What is the probability of getting this sample mean for days physically ill, if the population mean is 4?\n",
    "- Is there a statistically significant difference between men and women in the number of days a person feels phsyically ill?\n",
    "- Perform a statistical test to determine if there statistically significant difference is physical health of people from the three states. \n"
   ]
  },
  {
   "cell_type": "code",
   "execution_count": 34,
   "metadata": {},
   "outputs": [
    {
     "name": "stdout",
     "output_type": "stream",
     "text": [
      "mean:     4.0853\n",
      "std err:  0.0458\n",
      "t-stat:   1.8632  (H0:  mu = 4)\n",
      "p value:  0.0312\n",
      "num obs:   34545  (DF = 34544)\n"
     ]
    }
   ],
   "source": [
    "##  estimate of the mean and std. error of our estimate\n",
    "mx = tristate['PHYSHLTH'].mean()\n",
    "sd = tristate['PHYSHLTH'].std()\n",
    "nn = len(tristate['PHYSHLTH'])\n",
    "se = sd/np.sqrt(nn)\n",
    "\n",
    "##  calculate test statistics\n",
    "mu = 4\n",
    "tstat = (mx - mu)/se\n",
    "pval = 1 - stats.t.cdf(x=tstat,df=nn-1)\n",
    "\n",
    "##  calculate probability\n",
    "print('mean:     '  + str(\"{:.4f}\".format(mx)))\n",
    "print('std err:  '  + str(\"{:.4f}\".format(se)))\n",
    "print('t-stat:   '  + str(\"{:.4f}\".format(tstat)) + '  (H0:  mu = '+ str(mu) +')')\n",
    "print('p value:  '  + str(\"{:.4f}\".format(pval)))\n",
    "print('num obs:   ' + str(nn) + '  (DF = '+ str(nn-1) +')')\n",
    "\n",
    "del mx, sd, nn, se, mu, tstat, pval"
   ]
  },
  {
   "cell_type": "markdown",
   "metadata": {},
   "source": [
    "### The following questions are regarding the  `CHRONIC` variable.\n",
    "- What is the probability of drawing this sample proportion if chronically true population proportion is 0.10?\n",
    "- Is there a statistically significant difference in the percentage of men and women who are chronically sick?\n",
    "- Perform a statistical test to determine if there statistically significant difference is physical health of people from the three states."
   ]
  },
  {
   "cell_type": "code",
   "execution_count": 3,
   "metadata": {},
   "outputs": [
    {
     "ename": "NameError",
     "evalue": "name 'tristate' is not defined",
     "output_type": "error",
     "traceback": [
      "\u001b[0;31m---------------------------------------------------------------------------\u001b[0m",
      "\u001b[0;31mNameError\u001b[0m                                 Traceback (most recent call last)",
      "\u001b[0;32m<ipython-input-3-8856331eedb2>\u001b[0m in \u001b[0;36m<module>\u001b[0;34m\u001b[0m\n\u001b[1;32m      1\u001b[0m \u001b[0;31m##  estimate of the mean and std. error of our estimate\u001b[0m\u001b[0;34m\u001b[0m\u001b[0;34m\u001b[0m\u001b[0;34m\u001b[0m\u001b[0m\n\u001b[0;32m----> 2\u001b[0;31m \u001b[0mph\u001b[0m \u001b[0;34m=\u001b[0m \u001b[0mtristate\u001b[0m\u001b[0;34m[\u001b[0m\u001b[0;34m'chron'\u001b[0m\u001b[0;34m]\u001b[0m\u001b[0;34m.\u001b[0m\u001b[0mmean\u001b[0m\u001b[0;34m(\u001b[0m\u001b[0;34m)\u001b[0m\u001b[0;34m\u001b[0m\u001b[0;34m\u001b[0m\u001b[0m\n\u001b[0m\u001b[1;32m      3\u001b[0m \u001b[0mnn\u001b[0m \u001b[0;34m=\u001b[0m \u001b[0mlen\u001b[0m\u001b[0;34m(\u001b[0m\u001b[0mtristate\u001b[0m\u001b[0;34m[\u001b[0m\u001b[0;34m'chron'\u001b[0m\u001b[0;34m]\u001b[0m\u001b[0;34m)\u001b[0m\u001b[0;34m\u001b[0m\u001b[0;34m\u001b[0m\u001b[0m\n\u001b[1;32m      4\u001b[0m \u001b[0mse\u001b[0m \u001b[0;34m=\u001b[0m \u001b[0mnp\u001b[0m\u001b[0;34m.\u001b[0m\u001b[0msqrt\u001b[0m\u001b[0;34m(\u001b[0m\u001b[0mph\u001b[0m\u001b[0;34m*\u001b[0m\u001b[0;34m(\u001b[0m\u001b[0;36m1\u001b[0m\u001b[0;34m-\u001b[0m\u001b[0mph\u001b[0m\u001b[0;34m)\u001b[0m\u001b[0;34m/\u001b[0m\u001b[0mnn\u001b[0m\u001b[0;34m)\u001b[0m\u001b[0;34m\u001b[0m\u001b[0;34m\u001b[0m\u001b[0m\n\u001b[1;32m      5\u001b[0m \u001b[0;34m\u001b[0m\u001b[0m\n",
      "\u001b[0;31mNameError\u001b[0m: name 'tristate' is not defined"
     ]
    }
   ],
   "source": [
    "##  estimate of the mean and std. error of our estimate\n",
    "ph = tristate['chron'].mean()\n",
    "nn = len(tristate['chron'])\n",
    "se = np.sqrt(ph*(1-ph)/nn)\n",
    "\n",
    "##  calculate test statistics\n",
    "pn = 0.10\n",
    "zstat = (ph - pn)/se\n",
    "pval = 1 - stats.norm.cdf(x=zstat)\n",
    "\n",
    "##  calculate probability\n",
    "print('est prob:  '  + str(\"{:.4f}\".format(ph)))\n",
    "print('std err:   '  + str(\"{:.4f}\".format(se)))\n",
    "print('z-stat:   '   + str(\"{:.4f}\".format(zstat)) + '  (H0:  p = '+ str(\"{:.2f}\".format(pn))+')')\n",
    "print('p value:   '  + str(\"{:.4f}\".format(pval)))\n",
    "print('num obs:    ' + str(nn))\n",
    "\n",
    "del ph, nn, se, pn, zstat, pval"
   ]
  },
  {
   "cell_type": "markdown",
   "metadata": {},
   "source": [
    "# 10. Independent Investigation\n",
    "\n",
    "Now that you have invesitgated physical health and chronic sickness and their relationships with states and gender, you will conduct a similar investigation with variables of your choosing. \n",
    "\n",
    "Select a continuous dependent varaible and a binary dependent variable that you would like to investigate. Then select a categorical independent variable with at least 3 groups and for which you will test to see if the response to the independent variable affects outcomes of the dependent variable."
   ]
  },
  {
   "cell_type": "markdown",
   "metadata": {},
   "source": [
    "For your continuous dependent variable perform the following:\n",
    "  - Determine the sample mean and sample standard deviation\n",
    "  - Create a confidence interval for a population mean.\n",
    "  - Perform a two-sample test of means for gender.\n",
    "  - Perform a one-way ANOVA using your categorical independent variable."
   ]
  },
  {
   "cell_type": "markdown",
   "metadata": {},
   "source": [
    "Select/create a binary variable from the survey questions as you dependent variable and perform the following:\n",
    "  - Create a confidence interval for a population proportion.\n",
    "  - Perform a two proportions z-test using gender.\n",
    "  - Perform a Chi-Square test using your categorical independent variable."
   ]
  },
  {
   "cell_type": "markdown",
   "metadata": {},
   "source": [
    "###  M. Grossman (1976). \"The Correlation between Health and Schooling\""
   ]
  },
  {
   "cell_type": "code",
   "execution_count": 36,
   "metadata": {},
   "outputs": [],
   "source": [
    "##  relationship between health and education\n",
    "edu_dict = {1:'did not finish',\n",
    "            2:'high school grad',\n",
    "            3:'some college',\n",
    "            4:'college grad',\n",
    "            9:np.nan}\n",
    "tristate['education'] = tristate['_EDUCAG'].replace(edu_dict)\n",
    "del edu_dict\n",
    "\n",
    "hlthedu = tristate[['education','PHYSHLTH']].dropna()\n",
    "#hlthedu.shape"
   ]
  },
  {
   "cell_type": "code",
   "execution_count": 37,
   "metadata": {},
   "outputs": [
    {
     "data": {
      "text/plain": [
       "education\n",
       "did not finish      7.017364\n",
       "high school grad    5.124061\n",
       "some college        4.650706\n",
       "college grad        2.805341\n",
       "Name: PHYSHLTH, dtype: float64"
      ]
     },
     "execution_count": 37,
     "metadata": {},
     "output_type": "execute_result"
    }
   ],
   "source": [
    "##  let's create a table and take a closer look\n",
    "hlthedu_table = hlthedu.groupby('education').mean()['PHYSHLTH'][[1,2,3,0]]\n",
    "hlthedu_table"
   ]
  },
  {
   "cell_type": "code",
   "execution_count": 38,
   "metadata": {},
   "outputs": [
    {
     "data": {
      "image/png": "[encoded data removed]",
      "text/plain": [
       "<Figure size 432x288 with 1 Axes>"
      ]
     },
     "metadata": {
      "needs_background": "light"
     },
     "output_type": "display_data"
    }
   ],
   "source": [
    "##  now plot relationship between education and health\n",
    "xx_ticks = np.arange(len(hlthedu_table.index))\n",
    "fig1, ax1 = plt.subplots()\n",
    "ax1.set_title('Average Days Physical Health Not Good by Education Level')\n",
    "ax1.set_ylabel('days sick')\n",
    "plt.bar(xx_ticks,list(hlthedu_table))\n",
    "plt.xticks(xx_ticks,hlthedu_table.index);"
   ]
  },
  {
   "cell_type": "code",
   "execution_count": 1,
   "metadata": {},
   "outputs": [
    {
     "ename": "NameError",
     "evalue": "name 'stats' is not defined",
     "output_type": "error",
     "traceback": [
      "\u001b[0;31m---------------------------------------------------------------------------\u001b[0m",
      "\u001b[0;31mNameError\u001b[0m                                 Traceback (most recent call last)",
      "\u001b[0;32m<ipython-input-1-c53f142a1ef7>\u001b[0m in \u001b[0;36m<module>\u001b[0;34m\u001b[0m\n\u001b[1;32m      1\u001b[0m \u001b[0;31m##  run an ANOVA test\u001b[0m\u001b[0;34m\u001b[0m\u001b[0;34m\u001b[0m\u001b[0;34m\u001b[0m\u001b[0m\n\u001b[0;32m----> 2\u001b[0;31m hlthedu_ftest = stats.f_oneway(\n\u001b[0m\u001b[1;32m      3\u001b[0m     \u001b[0mhlthedu\u001b[0m\u001b[0;34m[\u001b[0m\u001b[0;34m'PHYSHLTH'\u001b[0m\u001b[0;34m]\u001b[0m\u001b[0;34m[\u001b[0m\u001b[0mhlthedu\u001b[0m\u001b[0;34m[\u001b[0m\u001b[0;34m'education'\u001b[0m\u001b[0;34m]\u001b[0m \u001b[0;34m==\u001b[0m \u001b[0;34m'did not finish'\u001b[0m\u001b[0;34m]\u001b[0m\u001b[0;34m,\u001b[0m\u001b[0;34m\u001b[0m\u001b[0;34m\u001b[0m\u001b[0m\n\u001b[1;32m      4\u001b[0m     \u001b[0mhlthedu\u001b[0m\u001b[0;34m[\u001b[0m\u001b[0;34m'PHYSHLTH'\u001b[0m\u001b[0;34m]\u001b[0m\u001b[0;34m[\u001b[0m\u001b[0mhlthedu\u001b[0m\u001b[0;34m[\u001b[0m\u001b[0;34m'education'\u001b[0m\u001b[0;34m]\u001b[0m \u001b[0;34m==\u001b[0m \u001b[0;34m'high school grad'\u001b[0m\u001b[0;34m]\u001b[0m\u001b[0;34m,\u001b[0m\u001b[0;34m\u001b[0m\u001b[0;34m\u001b[0m\u001b[0m\n\u001b[1;32m      5\u001b[0m     \u001b[0mhlthedu\u001b[0m\u001b[0;34m[\u001b[0m\u001b[0;34m'PHYSHLTH'\u001b[0m\u001b[0;34m]\u001b[0m\u001b[0;34m[\u001b[0m\u001b[0mhlthedu\u001b[0m\u001b[0;34m[\u001b[0m\u001b[0;34m'education'\u001b[0m\u001b[0;34m]\u001b[0m \u001b[0;34m==\u001b[0m \u001b[0;34m'some college'\u001b[0m\u001b[0;34m]\u001b[0m\u001b[0;34m,\u001b[0m\u001b[0;34m\u001b[0m\u001b[0;34m\u001b[0m\u001b[0m\n",
      "\u001b[0;31mNameError\u001b[0m: name 'stats' is not defined"
     ]
    }
   ],
   "source": [
    "##  run an ANOVA test\n",
    "hlthedu_ftest = stats.f_oneway(\n",
    "    hlthedu['PHYSHLTH'][hlthedu['education'] == 'did not finish'],\n",
    "    hlthedu['PHYSHLTH'][hlthedu['education'] == 'high school grad'],\n",
    "    hlthedu['PHYSHLTH'][hlthedu['education'] == 'some college'],\n",
    "    hlthedu['PHYSHLTH'][hlthedu['education'] == 'college grad'])\n",
    "\n",
    "##  print test results\n",
    "print('ANOVA test')\n",
    "print('Null Hypothesis:  Number of Days Sick does not depend on Education')\n",
    "print('F-stat:   ' + str(\"{:.4f}\".format(hlthedu_ftest.statistic)))\n",
    "print('p value:    ' + str(\"{:.4f}\".format(hlthedu_ftest.pvalue)))\n",
    "print('reject the null hypothesis')"
   ]
  },
  {
   "cell_type": "markdown",
   "metadata": {},
   "source": [
    "### relationship between smoking and education"
   ]
  },
  {
   "cell_type": "code",
   "execution_count": 40,
   "metadata": {},
   "outputs": [
    {
     "data": {
      "text/plain": [
       "(32682, 2)"
      ]
     },
     "execution_count": 40,
     "metadata": {},
     "output_type": "execute_result"
    }
   ],
   "source": [
    "##  isolate the variables\n",
    "smokedu = tristate[['smoker','education']].dropna()\n",
    "smokedu = smokedu.loc[(smokedu.smoker != 'nan')&(smokedu.smoker != \"don't know\")&(smokedu.smoker != 'refused')]\n",
    "smokedu.shape"
   ]
  },
  {
   "cell_type": "code",
   "execution_count": 41,
   "metadata": {},
   "outputs": [
    {
     "data": {
      "text/html": [
       "<div>\n",
       "<style scoped>\n",
       "    .dataframe tbody tr th:only-of-type {\n",
       "        vertical-align: middle;\n",
       "    }\n",
       "\n",
       "    .dataframe tbody tr th {\n",
       "        vertical-align: top;\n",
       "    }\n",
       "\n",
       "    .dataframe thead th {\n",
       "        text-align: right;\n",
       "    }\n",
       "</style>\n",
       "<table border=\"1\" class=\"dataframe\">\n",
       "  <thead>\n",
       "    <tr style=\"text-align: right;\">\n",
       "      <th>smoker</th>\n",
       "      <th>non-smoker</th>\n",
       "      <th>some days</th>\n",
       "      <th>everyday</th>\n",
       "    </tr>\n",
       "    <tr>\n",
       "      <th>education</th>\n",
       "      <th></th>\n",
       "      <th></th>\n",
       "      <th></th>\n",
       "    </tr>\n",
       "  </thead>\n",
       "  <tbody>\n",
       "    <tr>\n",
       "      <th>did not finish</th>\n",
       "      <td>1749</td>\n",
       "      <td>152</td>\n",
       "      <td>333</td>\n",
       "    </tr>\n",
       "    <tr>\n",
       "      <th>high school grad</th>\n",
       "      <td>6445</td>\n",
       "      <td>412</td>\n",
       "      <td>1015</td>\n",
       "    </tr>\n",
       "    <tr>\n",
       "      <th>some college</th>\n",
       "      <td>6540</td>\n",
       "      <td>397</td>\n",
       "      <td>776</td>\n",
       "    </tr>\n",
       "    <tr>\n",
       "      <th>college grad</th>\n",
       "      <td>13918</td>\n",
       "      <td>403</td>\n",
       "      <td>542</td>\n",
       "    </tr>\n",
       "  </tbody>\n",
       "</table>\n",
       "</div>"
      ],
      "text/plain": [
       "smoker            non-smoker  some days  everyday\n",
       "education                                        \n",
       "did not finish          1749        152       333\n",
       "high school grad        6445        412      1015\n",
       "some college            6540        397       776\n",
       "college grad           13918        403       542"
      ]
     },
     "execution_count": 41,
     "metadata": {},
     "output_type": "execute_result"
    }
   ],
   "source": [
    "##  cross-tabulate\n",
    "smokedu_crosstab = pd.crosstab(smokedu['education'],smokedu['smoker'])\n",
    "smokedu_crosstab = smokedu_crosstab.reindex(['did not finish','high school grad','some college','college grad'])\n",
    "smokedu_crosstab = smokedu_crosstab[['non-smoker','some days','everyday']]\n",
    "smokedu_crosstab"
   ]
  },
  {
   "cell_type": "code",
   "execution_count": 42,
   "metadata": {},
   "outputs": [
    {
     "name": "stdout",
     "output_type": "stream",
     "text": [
      "\n",
      "smoking decreases with educational attainment\n"
     ]
    },
    {
     "data": {
      "text/html": [
       "<div>\n",
       "<style scoped>\n",
       "    .dataframe tbody tr th:only-of-type {\n",
       "        vertical-align: middle;\n",
       "    }\n",
       "\n",
       "    .dataframe tbody tr th {\n",
       "        vertical-align: top;\n",
       "    }\n",
       "\n",
       "    .dataframe thead th {\n",
       "        text-align: right;\n",
       "    }\n",
       "</style>\n",
       "<table border=\"1\" class=\"dataframe\">\n",
       "  <thead>\n",
       "    <tr style=\"text-align: right;\">\n",
       "      <th>smoker</th>\n",
       "      <th>non-smoker</th>\n",
       "      <th>some days</th>\n",
       "      <th>everyday</th>\n",
       "    </tr>\n",
       "    <tr>\n",
       "      <th>education</th>\n",
       "      <th></th>\n",
       "      <th></th>\n",
       "      <th></th>\n",
       "    </tr>\n",
       "  </thead>\n",
       "  <tbody>\n",
       "    <tr>\n",
       "      <th>did not finish</th>\n",
       "      <td>0.783</td>\n",
       "      <td>0.068</td>\n",
       "      <td>0.149</td>\n",
       "    </tr>\n",
       "    <tr>\n",
       "      <th>high school grad</th>\n",
       "      <td>0.819</td>\n",
       "      <td>0.052</td>\n",
       "      <td>0.129</td>\n",
       "    </tr>\n",
       "    <tr>\n",
       "      <th>some college</th>\n",
       "      <td>0.848</td>\n",
       "      <td>0.051</td>\n",
       "      <td>0.101</td>\n",
       "    </tr>\n",
       "    <tr>\n",
       "      <th>college grad</th>\n",
       "      <td>0.936</td>\n",
       "      <td>0.027</td>\n",
       "      <td>0.036</td>\n",
       "    </tr>\n",
       "  </tbody>\n",
       "</table>\n",
       "</div>"
      ],
      "text/plain": [
       "smoker            non-smoker  some days  everyday\n",
       "education                                        \n",
       "did not finish         0.783      0.068     0.149\n",
       "high school grad       0.819      0.052     0.129\n",
       "some college           0.848      0.051     0.101\n",
       "college grad           0.936      0.027     0.036"
      ]
     },
     "metadata": {},
     "output_type": "display_data"
    }
   ],
   "source": [
    "##  get distributions by education level\n",
    "smokedu_ctdist = smokedu_crosstab\n",
    "smokedu_ctdist['sum'] = smokedu_ctdist.sum(axis=1)\n",
    "smokedu_ctdist = smokedu_ctdist.iloc[:,0:3].div(smokedu_ctdist[\"sum\"], axis=0)\n",
    "print()\n",
    "print('smoking decreases with educational attainment')\n",
    "display(round(smokedu_ctdist,3))\n",
    "\n",
    "##  clean up\n",
    "del smokedu_ctdist\n",
    "smokedu_crosstab = smokedu_crosstab.iloc[:,0:3]\n",
    "#smokedu_crosstab"
   ]
  },
  {
   "cell_type": "code",
   "execution_count": 43,
   "metadata": {},
   "outputs": [
    {
     "name": "stdout",
     "output_type": "stream",
     "text": [
      "Chi-Squared test\n",
      "Null Hypothesis:  Smoking Status does not depend on Education\n",
      "Chi2-stat:  1018.4375\n",
      "p value:       0.0000\n",
      "reject the null hypothesis\n"
     ]
    }
   ],
   "source": [
    "##  calculate the Chi-squared statistic and critical value\n",
    "chi2stat, pvalue, degfree, expected = stats.chi2_contingency(smokedu_crosstab)\n",
    "ci_level = 0.95\n",
    "cvalue = stats.chi2.ppf(ci_level, degfree)\n",
    "\n",
    "##  print test results\n",
    "print('Chi-Squared test')\n",
    "print('Null Hypothesis:  Smoking Status does not depend on Education')\n",
    "print('Chi2-stat:  ' + str(\"{:.4f}\".format(chi2stat)))\n",
    "print('p value:       ' + str(\"{:.4f}\".format(pvalue)))\n",
    "print('reject the null hypothesis')\n",
    "\n",
    "del chi2stat, pvalue, degfree, ci_level, cvalue ##, expected"
   ]
  },
  {
   "cell_type": "code",
   "execution_count": 44,
   "metadata": {},
   "outputs": [],
   "source": [
    "##  take the difference between the two tables\n",
    "##  shows the relationship between education and smoking status\n",
    "#obs_expect = smokedu_crosstab - expected\n",
    "#round(obs_expect,1)"
   ]
  },
  {
   "cell_type": "code",
   "execution_count": null,
   "metadata": {},
   "outputs": [],
   "source": []
  }
 ],
 "metadata": {
  "kernelspec": {
   "display_name": "Python 3",
   "language": "python",
   "name": "python3"
  },
  "language_info": {
   "codemirror_mode": {
    "name": "ipython",
    "version": 3
   },
   "file_extension": ".py",
   "mimetype": "text/x-python",
   "name": "python",
   "nbconvert_exporter": "python",
   "pygments_lexer": "ipython3",
   "version": "3.7.6"
  }
 },
 "nbformat": 4,
 "nbformat_minor": 2
}
