{
 "cells": [
  {
   "cell_type": "markdown",
   "metadata": {},
   "source": [
    "# Case Background & Key Questions\t\n",
    "\n",
    "Flatiron Health Insurance (FHI) is a growing private healthcare insurance provider founded on the premise that using data and analytics can improve the health insurance industry by providing better care and offerings to its patients. Every year, the Center for Disease Control (CDC) conducts surveys to understand the latest demographic, health, and fitness trends. You have been tasked with analyzing the recently published results of his years’ survey and providing your recommendations back to the Chief Analytics Officer and Chief Marketing Officer. You have been assigned the task of taking a first look at the data and beginning to answer several key questions:\n",
    "\t\t\t\t\t\t\t\t\t\t\t \t\t\t\t\t\t\t\t\n",
    "1)  How does health status, represented by average number of days with bad physical health in the past month (PHYSHLTH), differ by state? Also provide an indication of distribution using whatever statistics you find suitable.\n",
    " \t\t\t\t\t\t\t\t\t\t\t\t \t\t\t\t\t\t\t\t\n",
    "2)  Digging deeper into the data, what are some factors that impact health (i.e. demographics, behaviors, previous illness, etc.)?\t\n",
    "\t\t\t\t\t\t \t\t\t\t\t\t\n",
    "To get you started, the IT department formatted the data set into a tab delimited text file for only NY, NJ, and CT (FHI’s primary markets) called `case_study.csv`. Below you will find a list of steps/questions that you will need to take in your investigation. The first part of the notebook will be focused on cleaning up your data and visualizing it.  The second part of the data set will be focused on performing statistical tests to make statements with statistical significance.  \n"
   ]
  },
  {
   "cell_type": "code",
   "execution_count": 61,
   "metadata": {},
   "outputs": [],
   "source": [
    "import pandas as pd\n",
    "import matplotlib.pyplot as plt\n",
    "import numpy as np\n",
    "import seaborn as sns\n",
    "sns.set_palette('muted')\n",
    "%matplotlib inline\n",
    "from scipy import stats\n",
    "import statsmodels.api as sm"
   ]
  },
  {
   "cell_type": "markdown",
   "metadata": {},
   "source": [
    "# pd.read_csv('case_study.csv')"
   ]
  },
  {
   "cell_type": "code",
   "execution_count": 3,
   "metadata": {},
   "outputs": [
    {
     "name": "stderr",
     "output_type": "stream",
     "text": [
      "/Users/arencarpenter/opt/anaconda3/lib/python3.7/site-packages/IPython/core/interactiveshell.py:3063: DtypeWarning: Columns (171) have mixed types.Specify dtype option on import or set low_memory=False.\n",
      "  interactivity=interactivity, compiler=compiler, result=result)\n"
     ]
    }
   ],
   "source": [
    "#Load our dataframe account for the index columns\n",
    "df = pd.read_csv('case_study.csv', index_col=0)"
   ]
  },
  {
   "cell_type": "code",
   "execution_count": 4,
   "metadata": {},
   "outputs": [
    {
     "data": {
      "text/html": [
       "<div>\n",
       "<style scoped>\n",
       "    .dataframe tbody tr th:only-of-type {\n",
       "        vertical-align: middle;\n",
       "    }\n",
       "\n",
       "    .dataframe tbody tr th {\n",
       "        vertical-align: top;\n",
       "    }\n",
       "\n",
       "    .dataframe thead th {\n",
       "        text-align: right;\n",
       "    }\n",
       "</style>\n",
       "<table border=\"1\" class=\"dataframe\">\n",
       "  <thead>\n",
       "    <tr style=\"text-align: right;\">\n",
       "      <th></th>\n",
       "      <th>_STATE</th>\n",
       "      <th>FMONTH</th>\n",
       "      <th>IDATE</th>\n",
       "      <th>IMONTH</th>\n",
       "      <th>IDAY</th>\n",
       "      <th>IYEAR</th>\n",
       "      <th>DISPCODE</th>\n",
       "      <th>SEQNO</th>\n",
       "      <th>_PSU</th>\n",
       "      <th>CTELENM1</th>\n",
       "      <th>...</th>\n",
       "      <th>_PA300R2</th>\n",
       "      <th>_PA30021</th>\n",
       "      <th>_PASTRNG</th>\n",
       "      <th>_PAREC1</th>\n",
       "      <th>_PASTAE1</th>\n",
       "      <th>_RFSEAT2</th>\n",
       "      <th>_RFSEAT3</th>\n",
       "      <th>_FLSHOT6</th>\n",
       "      <th>_PNEUMO2</th>\n",
       "      <th>_AIDTST3</th>\n",
       "    </tr>\n",
       "  </thead>\n",
       "  <tbody>\n",
       "    <tr>\n",
       "      <th>49938</th>\n",
       "      <td>9.0</td>\n",
       "      <td>5.0</td>\n",
       "      <td>5172017</td>\n",
       "      <td>5</td>\n",
       "      <td>17</td>\n",
       "      <td>2017</td>\n",
       "      <td>1200.0</td>\n",
       "      <td>2017000001</td>\n",
       "      <td>2.017000e+09</td>\n",
       "      <td>NaN</td>\n",
       "      <td>...</td>\n",
       "      <td>2.0</td>\n",
       "      <td>2.0</td>\n",
       "      <td>2.0</td>\n",
       "      <td>4.0</td>\n",
       "      <td>2.0</td>\n",
       "      <td>1.0</td>\n",
       "      <td>1.0</td>\n",
       "      <td>NaN</td>\n",
       "      <td>NaN</td>\n",
       "      <td>1.0</td>\n",
       "    </tr>\n",
       "    <tr>\n",
       "      <th>49939</th>\n",
       "      <td>9.0</td>\n",
       "      <td>2.0</td>\n",
       "      <td>2142017</td>\n",
       "      <td>2</td>\n",
       "      <td>14</td>\n",
       "      <td>2017</td>\n",
       "      <td>1200.0</td>\n",
       "      <td>2017000002</td>\n",
       "      <td>2.017000e+09</td>\n",
       "      <td>NaN</td>\n",
       "      <td>...</td>\n",
       "      <td>1.0</td>\n",
       "      <td>1.0</td>\n",
       "      <td>1.0</td>\n",
       "      <td>1.0</td>\n",
       "      <td>1.0</td>\n",
       "      <td>2.0</td>\n",
       "      <td>2.0</td>\n",
       "      <td>NaN</td>\n",
       "      <td>NaN</td>\n",
       "      <td>2.0</td>\n",
       "    </tr>\n",
       "    <tr>\n",
       "      <th>49940</th>\n",
       "      <td>9.0</td>\n",
       "      <td>1.0</td>\n",
       "      <td>1292017</td>\n",
       "      <td>1</td>\n",
       "      <td>29</td>\n",
       "      <td>2017</td>\n",
       "      <td>1200.0</td>\n",
       "      <td>2017000003</td>\n",
       "      <td>2.017000e+09</td>\n",
       "      <td>NaN</td>\n",
       "      <td>...</td>\n",
       "      <td>3.0</td>\n",
       "      <td>2.0</td>\n",
       "      <td>1.0</td>\n",
       "      <td>3.0</td>\n",
       "      <td>2.0</td>\n",
       "      <td>1.0</td>\n",
       "      <td>1.0</td>\n",
       "      <td>NaN</td>\n",
       "      <td>NaN</td>\n",
       "      <td>2.0</td>\n",
       "    </tr>\n",
       "    <tr>\n",
       "      <th>49941</th>\n",
       "      <td>9.0</td>\n",
       "      <td>7.0</td>\n",
       "      <td>9112017</td>\n",
       "      <td>9</td>\n",
       "      <td>11</td>\n",
       "      <td>2017</td>\n",
       "      <td>1200.0</td>\n",
       "      <td>2017000004</td>\n",
       "      <td>2.017000e+09</td>\n",
       "      <td>NaN</td>\n",
       "      <td>...</td>\n",
       "      <td>2.0</td>\n",
       "      <td>2.0</td>\n",
       "      <td>2.0</td>\n",
       "      <td>2.0</td>\n",
       "      <td>2.0</td>\n",
       "      <td>1.0</td>\n",
       "      <td>1.0</td>\n",
       "      <td>NaN</td>\n",
       "      <td>NaN</td>\n",
       "      <td>1.0</td>\n",
       "    </tr>\n",
       "    <tr>\n",
       "      <th>49942</th>\n",
       "      <td>9.0</td>\n",
       "      <td>5.0</td>\n",
       "      <td>7182017</td>\n",
       "      <td>7</td>\n",
       "      <td>18</td>\n",
       "      <td>2017</td>\n",
       "      <td>1200.0</td>\n",
       "      <td>2017000005</td>\n",
       "      <td>2.017000e+09</td>\n",
       "      <td>NaN</td>\n",
       "      <td>...</td>\n",
       "      <td>2.0</td>\n",
       "      <td>2.0</td>\n",
       "      <td>1.0</td>\n",
       "      <td>1.0</td>\n",
       "      <td>1.0</td>\n",
       "      <td>1.0</td>\n",
       "      <td>1.0</td>\n",
       "      <td>NaN</td>\n",
       "      <td>NaN</td>\n",
       "      <td>2.0</td>\n",
       "    </tr>\n",
       "  </tbody>\n",
       "</table>\n",
       "<p>5 rows × 358 columns</p>\n",
       "</div>"
      ],
      "text/plain": [
       "       _STATE  FMONTH    IDATE  IMONTH  IDAY  IYEAR  DISPCODE       SEQNO  \\\n",
       "49938     9.0     5.0  5172017       5    17   2017    1200.0  2017000001   \n",
       "49939     9.0     2.0  2142017       2    14   2017    1200.0  2017000002   \n",
       "49940     9.0     1.0  1292017       1    29   2017    1200.0  2017000003   \n",
       "49941     9.0     7.0  9112017       9    11   2017    1200.0  2017000004   \n",
       "49942     9.0     5.0  7182017       7    18   2017    1200.0  2017000005   \n",
       "\n",
       "               _PSU  CTELENM1  ...  _PA300R2  _PA30021  _PASTRNG  _PAREC1  \\\n",
       "49938  2.017000e+09       NaN  ...       2.0       2.0       2.0      4.0   \n",
       "49939  2.017000e+09       NaN  ...       1.0       1.0       1.0      1.0   \n",
       "49940  2.017000e+09       NaN  ...       3.0       2.0       1.0      3.0   \n",
       "49941  2.017000e+09       NaN  ...       2.0       2.0       2.0      2.0   \n",
       "49942  2.017000e+09       NaN  ...       2.0       2.0       1.0      1.0   \n",
       "\n",
       "       _PASTAE1  _RFSEAT2  _RFSEAT3  _FLSHOT6  _PNEUMO2  _AIDTST3  \n",
       "49938       2.0       1.0       1.0       NaN       NaN       1.0  \n",
       "49939       1.0       2.0       2.0       NaN       NaN       2.0  \n",
       "49940       2.0       1.0       1.0       NaN       NaN       2.0  \n",
       "49941       2.0       1.0       1.0       NaN       NaN       1.0  \n",
       "49942       1.0       1.0       1.0       NaN       NaN       2.0  \n",
       "\n",
       "[5 rows x 358 columns]"
      ]
     },
     "execution_count": 4,
     "metadata": {},
     "output_type": "execute_result"
    }
   ],
   "source": [
    "df.head()"
   ]
  },
  {
   "cell_type": "code",
   "execution_count": 5,
   "metadata": {},
   "outputs": [
    {
     "data": {
      "text/plain": [
       "(34545, 358)"
      ]
     },
     "execution_count": 5,
     "metadata": {},
     "output_type": "execute_result"
    }
   ],
   "source": [
    "# Quickly check to see the size of our DF, both rows and columns\n",
    "df.shape"
   ]
  },
  {
   "cell_type": "code",
   "execution_count": 6,
   "metadata": {},
   "outputs": [
    {
     "data": {
      "text/plain": [
       "88.0    21296\n",
       "30.0     2438\n",
       "2.0      1993\n",
       "1.0      1538\n",
       "3.0      1187\n",
       "5.0      1092\n",
       "10.0      751\n",
       "7.0       641\n",
       "15.0      640\n",
       "4.0       622\n",
       "77.0      493\n",
       "20.0      402\n",
       "14.0      326\n",
       "99.0      305\n",
       "6.0       187\n",
       "25.0      159\n",
       "8.0        99\n",
       "21.0       70\n",
       "12.0       69\n",
       "28.0       57\n",
       "29.0       35\n",
       "27.0       22\n",
       "18.0       19\n",
       "16.0       16\n",
       "17.0       15\n",
       "9.0        15\n",
       "22.0       12\n",
       "13.0       10\n",
       "19.0       10\n",
       "11.0        8\n",
       "24.0        7\n",
       "26.0        7\n",
       "23.0        4\n",
       "Name: PHYSHLTH, dtype: int64"
      ]
     },
     "execution_count": 6,
     "metadata": {},
     "output_type": "execute_result"
    }
   ],
   "source": [
    "df['PHYSHLTH'].value_counts()"
   ]
  },
  {
   "cell_type": "markdown",
   "metadata": {},
   "source": [
    "## Subset your dataframe to only include the states in the tri-state area (NJ, CT, NY)"
   ]
  },
  {
   "cell_type": "code",
   "execution_count": 7,
   "metadata": {},
   "outputs": [],
   "source": [
    "# your code here\n",
    "tristate = df[df['_STATE'].isin([9,34,36])]\n",
    "tristate['state'] = np.where(tristate['_STATE'] == 9,'Connecticut',\n",
    "                             np.where(tristate['_STATE'] == 34,'New Jersey',\n",
    "                                      np.where(tristate['_STATE'] == 36,'New York','ERROR')))\n",
    "tristate['ones'] = np.ones(tristate.shape[0])\n",
    "df = tristate"
   ]
  },
  {
   "cell_type": "markdown",
   "metadata": {},
   "source": [
    "Now check to see how large our subset df."
   ]
  },
  {
   "cell_type": "code",
   "execution_count": 8,
   "metadata": {},
   "outputs": [
    {
     "data": {
      "text/plain": [
       "(34545, 360)"
      ]
     },
     "execution_count": 8,
     "metadata": {},
     "output_type": "execute_result"
    }
   ],
   "source": [
    "df.shape"
   ]
  },
  {
   "cell_type": "markdown",
   "metadata": {},
   "source": [
    "**PHYSHLTH** is the column we are interested in for this analysis, so let's start to investigate the column. Since we have a data cookbook, a.k.a. data dictionary) we want to start there before looking at the code."
   ]
  },
  {
   "cell_type": "code",
   "execution_count": 9,
   "metadata": {
    "scrolled": true
   },
   "outputs": [
    {
     "data": {
      "text/plain": [
       "count    34545.000000\n",
       "mean        60.213403\n",
       "std         37.504566\n",
       "min          1.000000\n",
       "25%         15.000000\n",
       "50%         88.000000\n",
       "75%         88.000000\n",
       "max         99.000000\n",
       "Name: PHYSHLTH, dtype: float64"
      ]
     },
     "execution_count": 9,
     "metadata": {},
     "output_type": "execute_result"
    }
   ],
   "source": [
    "df['PHYSHLTH'].describe() # Can see max value is 99 which is a code and not a real day amount"
   ]
  },
  {
   "cell_type": "markdown",
   "metadata": {},
   "source": [
    "## 1. Handle the non-normal values\n",
    "\n",
    "As you can see from the data dictionary, there are a number of responses that are coded with values that could throw off our descriptive statistics.  Let's clean up by mapping the responses to a more appropriate value, and handling any missing values.  "
   ]
  },
  {
   "cell_type": "code",
   "execution_count": 10,
   "metadata": {},
   "outputs": [
    {
     "name": "stdout",
     "output_type": "stream",
     "text": [
      "0.0     21296\n",
      "30.0     2438\n",
      "2.0      1993\n",
      "1.0      1538\n",
      "3.0      1187\n",
      "5.0      1092\n",
      "10.0      751\n",
      "7.0       641\n",
      "15.0      640\n",
      "4.0       622\n",
      "20.0      402\n",
      "14.0      326\n",
      "6.0       187\n",
      "25.0      159\n",
      "8.0        99\n",
      "21.0       70\n",
      "12.0       69\n",
      "28.0       57\n",
      "29.0       35\n",
      "27.0       22\n",
      "18.0       19\n",
      "16.0       16\n",
      "17.0       15\n",
      "9.0        15\n",
      "22.0       12\n",
      "13.0       10\n",
      "19.0       10\n",
      "11.0        8\n",
      "24.0        7\n",
      "26.0        7\n",
      "23.0        4\n",
      "Name: new_phys, dtype: int64\n"
     ]
    }
   ],
   "source": [
    "#your code here\n",
    "df['new_phys'] = df['PHYSHLTH'].where(df['PHYSHLTH'] != 88.0, 0) # Redefine 88 entries as 0 days sick using vectorized\n",
    "                                                                 # conditional\n",
    "\n",
    "df['new_phys'] = df.new_phys.where((df['new_phys'] != 99.0) & (df['new_phys'] != 77.0)) # Remove 99 and 77 values\n",
    "                                                                                        # these correspond to not \n",
    "                                                                                        # answering or 'don't know'.\n",
    "    \n",
    "print(df.new_phys.value_counts()) # Print Value Counts to confirm data is clean."
   ]
  },
  {
   "cell_type": "markdown",
   "metadata": {},
   "source": [
    "## 2. Generate the descriptive statistics\n",
    "\n",
    "Now that our target variable is cleaned up lets calculate the descriptive statistics, generate a graph that quickly shows those statistics, and generate a graph shows the distribution of the data."
   ]
  },
  {
   "cell_type": "code",
   "execution_count": 11,
   "metadata": {},
   "outputs": [
    {
     "data": {
      "text/plain": [
       "count    33747.000000\n",
       "mean         4.085341\n",
       "std          8.513293\n",
       "min          0.000000\n",
       "25%          0.000000\n",
       "50%          0.000000\n",
       "75%          3.000000\n",
       "max         30.000000\n",
       "Name: new_phys, dtype: float64"
      ]
     },
     "execution_count": 11,
     "metadata": {},
     "output_type": "execute_result"
    }
   ],
   "source": [
    "# descriptive statistics\n",
    "df.new_phys.describe() # Now our max is 30 days. "
   ]
  },
  {
   "cell_type": "code",
   "execution_count": 12,
   "metadata": {
    "scrolled": true
   },
   "outputs": [
    {
     "data": {
      "text/plain": [
       "Text(0, 0.5, 'Sick Days')"
      ]
     },
     "execution_count": 12,
     "metadata": {},
     "output_type": "execute_result"
    },
    {
     "data": {
      "image/png": "[encoded data removed]",
      "text/plain": [
       "<Figure size 432x288 with 1 Axes>"
      ]
     },
     "metadata": {
      "needs_background": "light"
     },
     "output_type": "display_data"
    }
   ],
   "source": [
    "graph = sns.boxplot(x=df.new_phys, orient='v', width=0.3, fliersize=2, linewidth=0.75)\n",
    "graph.set_title(\"Average Number of Sick Days\")\n",
    "graph.set_xlabel(\"p\")\n",
    "graph.set_ylabel(\"Sick Days\")\n"
   ]
  },
  {
   "cell_type": "code",
   "execution_count": 13,
   "metadata": {},
   "outputs": [
    {
     "data": {
      "text/plain": [
       "Text(0, 0.5, 'Count')"
      ]
     },
     "execution_count": 13,
     "metadata": {},
     "output_type": "execute_result"
    },
    {
     "data": {
      "image/png": "[encoded data removed]",
      "text/plain": [
       "<Figure size 432x288 with 1 Axes>"
      ]
     },
     "metadata": {
      "needs_background": "light"
     },
     "output_type": "display_data"
    }
   ],
   "source": [
    "# graphic the distribution of data\n",
    "graph2 = sns.distplot(df.new_phys, kde=False, bins=15)\n",
    "graph2.set_title(\"Distribution of Sick Days\")\n",
    "graph2.set_xlabel(\"Sick Days\")\n",
    "graph2.set_ylabel(\"Count\")"
   ]
  },
  {
   "cell_type": "markdown",
   "metadata": {},
   "source": [
    "## 3. Generate a graphic that compares the average number of sick days for each state. "
   ]
  },
  {
   "cell_type": "code",
   "execution_count": 14,
   "metadata": {},
   "outputs": [
    {
     "data": {
      "text/html": [
       "<div>\n",
       "<style scoped>\n",
       "    .dataframe tbody tr th:only-of-type {\n",
       "        vertical-align: middle;\n",
       "    }\n",
       "\n",
       "    .dataframe tbody tr th {\n",
       "        vertical-align: top;\n",
       "    }\n",
       "\n",
       "    .dataframe thead th {\n",
       "        text-align: right;\n",
       "    }\n",
       "</style>\n",
       "<table border=\"1\" class=\"dataframe\">\n",
       "  <thead>\n",
       "    <tr style=\"text-align: right;\">\n",
       "      <th></th>\n",
       "      <th>count</th>\n",
       "      <th>mean</th>\n",
       "      <th>std</th>\n",
       "      <th>min</th>\n",
       "      <th>25%</th>\n",
       "      <th>50%</th>\n",
       "      <th>75%</th>\n",
       "      <th>max</th>\n",
       "    </tr>\n",
       "    <tr>\n",
       "      <th>_STATE</th>\n",
       "      <th></th>\n",
       "      <th></th>\n",
       "      <th></th>\n",
       "      <th></th>\n",
       "      <th></th>\n",
       "      <th></th>\n",
       "      <th></th>\n",
       "      <th></th>\n",
       "    </tr>\n",
       "  </thead>\n",
       "  <tbody>\n",
       "    <tr>\n",
       "      <th>9.0</th>\n",
       "      <td>10413.0</td>\n",
       "      <td>3.688562</td>\n",
       "      <td>8.103732</td>\n",
       "      <td>0.0</td>\n",
       "      <td>0.0</td>\n",
       "      <td>0.0</td>\n",
       "      <td>2.0</td>\n",
       "      <td>30.0</td>\n",
       "    </tr>\n",
       "    <tr>\n",
       "      <th>34.0</th>\n",
       "      <td>11458.0</td>\n",
       "      <td>4.380957</td>\n",
       "      <td>8.923776</td>\n",
       "      <td>0.0</td>\n",
       "      <td>0.0</td>\n",
       "      <td>0.0</td>\n",
       "      <td>3.0</td>\n",
       "      <td>30.0</td>\n",
       "    </tr>\n",
       "    <tr>\n",
       "      <th>36.0</th>\n",
       "      <td>11876.0</td>\n",
       "      <td>4.148030</td>\n",
       "      <td>8.445330</td>\n",
       "      <td>0.0</td>\n",
       "      <td>0.0</td>\n",
       "      <td>0.0</td>\n",
       "      <td>3.0</td>\n",
       "      <td>30.0</td>\n",
       "    </tr>\n",
       "  </tbody>\n",
       "</table>\n",
       "</div>"
      ],
      "text/plain": [
       "          count      mean       std  min  25%  50%  75%   max\n",
       "_STATE                                                       \n",
       "9.0     10413.0  3.688562  8.103732  0.0  0.0  0.0  2.0  30.0\n",
       "34.0    11458.0  4.380957  8.923776  0.0  0.0  0.0  3.0  30.0\n",
       "36.0    11876.0  4.148030  8.445330  0.0  0.0  0.0  3.0  30.0"
      ]
     },
     "execution_count": 14,
     "metadata": {},
     "output_type": "execute_result"
    }
   ],
   "source": [
    "# code to calculate the average number of sick days by state\n",
    "by_state = df.groupby('_STATE').new_phys.describe() # Groupby State to see mean.\n",
    "by_state"
   ]
  },
  {
   "cell_type": "code",
   "execution_count": 15,
   "metadata": {
    "scrolled": true
   },
   "outputs": [
    {
     "data": {
      "text/plain": [
       "[[Text(0, 0, 'CT'), Text(0, 0, 'NJ'), Text(0, 0, 'NY')]]"
      ]
     },
     "execution_count": 15,
     "metadata": {},
     "output_type": "execute_result"
    },
    {
     "data": {
      "image/png": "[encoded data removed]",
      "text/plain": [
       "<Figure size 432x288 with 1 Axes>"
      ]
     },
     "metadata": {
      "needs_background": "light"
     },
     "output_type": "display_data"
    }
   ],
   "source": [
    "graph3 = sns.barplot(x='_STATE', y='new_phys', data=df, ci = None)  # Mean sick days by state.\n",
    "graph3.set_xlabel(\"State\")                                          # Set x label.\n",
    "graph3.set_ylabel(\"Mean Sick Days\")                                 # Set y label.\n",
    "graph3.set(xticklabels=['CT', 'NJ', 'NY'])                          # Set custom ticks instead of state code."
   ]
  },
  {
   "cell_type": "code",
   "execution_count": 77,
   "metadata": {},
   "outputs": [
    {
     "data": {
      "text/plain": [
       "Text(0.5, 1.0, 'Distribution of Sick Days')"
      ]
     },
     "execution_count": 77,
     "metadata": {},
     "output_type": "execute_result"
    },
    {
     "data": {
      "image/png": "[encoded data removed]",
      "text/plain": [
       "<Figure size 432x288 with 1 Axes>"
      ]
     },
     "metadata": {
      "needs_background": "light"
     },
     "output_type": "display_data"
    }
   ],
   "source": [
    "CT = df.loc[df['_STATE'] == 9.0]     # Lookup by statecode.\n",
    "NJ = df.loc[df['_STATE'] == 34.0]    #\n",
    "NY = df.loc[df['_STATE'] == 36.0]    #\n",
    "\n",
    "graph4=sns.distplot(CT.new_phys, kde=True, hist_kws=dict(fill=False)) # Plot sick days dist by state.\n",
    "sns.distplot(NJ.new_phys, kde=True, hist_kws=dict(fill=False))       # Remove bin fill color.\n",
    "sns.distplot(NY.new_phys, kde=True, hist_kws=dict(fill=False))       #\n",
    "\n",
    "graph4.set_title(\"Distribution of Sick Days\")"
   ]
  },
  {
   "cell_type": "markdown",
   "metadata": {},
   "source": [
    "## 4. Turn the number of sick days into a classification of of chronically sick people.  \n",
    "\n",
    "Chronically sick people account for a significant proportion of the costs for health insurers. If we can identify what leads people to be chronically sick, we can address them with specific treatments.\n",
    "\n"
   ]
  },
  {
   "cell_type": "code",
   "execution_count": 18,
   "metadata": {},
   "outputs": [
    {
     "data": {
      "text/plain": [
       "0    30296\n",
       "1     4249\n",
       "Name: chronic, dtype: int64"
      ]
     },
     "execution_count": 18,
     "metadata": {},
     "output_type": "execute_result"
    }
   ],
   "source": [
    "# code to create new colum for chronically sick\n",
    "\n",
    "df['chronic'] = np.where(df['new_phys'] > 12, 1, 0)  #If sick days > 12, classify as chronically ill.\n",
    "df.chronic.value_counts() # We see 30296 are not chronic, and 4249 are chronic."
   ]
  },
  {
   "cell_type": "code",
   "execution_count": 19,
   "metadata": {},
   "outputs": [
    {
     "data": {
      "text/plain": [
       "count    34545.000000\n",
       "mean         0.122999\n",
       "std          0.328441\n",
       "min          0.000000\n",
       "25%          0.000000\n",
       "50%          0.000000\n",
       "75%          0.000000\n",
       "max          1.000000\n",
       "Name: chronic, dtype: float64"
      ]
     },
     "execution_count": 19,
     "metadata": {},
     "output_type": "execute_result"
    }
   ],
   "source": [
    "df.chronic.describe()"
   ]
  },
  {
   "cell_type": "markdown",
   "metadata": {},
   "source": [
    "## 5. Create a graphic that compares the percentage of people labeled as 'sick' in each state. "
   ]
  },
  {
   "cell_type": "code",
   "execution_count": 20,
   "metadata": {},
   "outputs": [
    {
     "data": {
      "text/plain": [
       "_STATE\n",
       "9.0     0.110880\n",
       "34.0    0.134011\n",
       "36.0    0.122949\n",
       "Name: chronic, dtype: float64"
      ]
     },
     "execution_count": 20,
     "metadata": {},
     "output_type": "execute_result"
    }
   ],
   "source": [
    "# code to calculate averages per state\n",
    "state_x_chronic = df.groupby('_STATE').chronic.mean() # Groupby State to see mean.\n",
    "state_x_chronic # We see its about 12% for all states."
   ]
  },
  {
   "cell_type": "code",
   "execution_count": 21,
   "metadata": {},
   "outputs": [
    {
     "data": {
      "text/plain": [
       "[[Text(0, 0, 'CT'), Text(0, 0, 'NJ'), Text(0, 0, 'NY')]]"
      ]
     },
     "execution_count": 21,
     "metadata": {},
     "output_type": "execute_result"
    },
    {
     "data": {
      "image/png": "[encoded data removed]",
      "text/plain": [
       "<Figure size 432x288 with 1 Axes>"
      ]
     },
     "metadata": {
      "needs_background": "light"
     },
     "output_type": "display_data"
    }
   ],
   "source": [
    "# create graphic to compare chronically sick by state\n",
    "graph5 = sns.barplot(x='_STATE', y='chronic', data=df, ci = None)   # Mean chronic proportion by state.\n",
    "graph5.set_xlabel(\"State\")                                          # Set x label.\n",
    "graph5.set_ylabel(\"Mean Chronic Proportion\")                        # Set y label.\n",
    "graph5.set(xticklabels=['CT', 'NJ', 'NY'])                          # Set custom ticks instead of state code."
   ]
  },
  {
   "cell_type": "markdown",
   "metadata": {},
   "source": [
    "## 6. Independent Variables (categorical)\n",
    "\n",
    "Does smoking affect the number of days people feel physically ill? \n",
    "Let's take the column `SMOKDAY2` and start to prepare it so that we can see how it is possibly correlated to `PHYSHLTH`. When cleaning this data you will find that many respondents were not asked that question. read the codebook to understand why, and use that information when cleaning up your data. I.E, you will need to process two columns in order to create a new column of smokers.\n",
    "\n",
    "1. Clean up the values.\n",
    "2. Calculate the descriptive statistics of the variable.\n",
    "3. Generate a histogram for the variable.\n",
    "4. Generate graphics that show how the responses to this variable might differ by state.\n",
    "5. Generate a graphic that compares the physical health of the different groups of 'smokers'."
   ]
  },
  {
   "cell_type": "code",
   "execution_count": 22,
   "metadata": {},
   "outputs": [],
   "source": [
    "tristate = df\n",
    "tristate['smoker'] = np.where(tristate['SMOKE100']==7,\"don't know\",\n",
    "                              np.where(tristate['SMOKE100']==9,'refused',\n",
    "                                       np.where(tristate['SMOKE100']==2,'non-smoker',\n",
    "                                                np.where(tristate['SMOKDAY2']==7,\"don't know\",\n",
    "                                                         np.where(tristate['SMOKDAY2']==9,'refused',\n",
    "                                                                  np.where(tristate['SMOKDAY2']==3,'non-smoker',\n",
    "                                                                           np.where(tristate['SMOKDAY2']==2,'some days',\n",
    "                                                                                    np.where(tristate['SMOKDAY2']==1,'everyday',np.NaN))))))))                   "
   ]
  },
  {
   "cell_type": "code",
   "execution_count": 23,
   "metadata": {},
   "outputs": [
    {
     "data": {
      "text/plain": [
       "smoker\n",
       "non-smoker    0.833406\n",
       "everyday      0.077464\n",
       "some days     0.039687\n",
       "don't know    0.005211\n",
       "refused       0.002258\n",
       "Name: state, dtype: float64"
      ]
     },
     "execution_count": 23,
     "metadata": {},
     "output_type": "execute_result"
    }
   ],
   "source": [
    "smokers = tristate.groupby('smoker').count()['state']\n",
    "smokers = smokers[[3,1,5,0,4]] / smokers.sum()\n",
    "smokers"
   ]
  },
  {
   "cell_type": "code",
   "execution_count": 24,
   "metadata": {},
   "outputs": [
    {
     "data": {
      "image/png": "[encoded data removed]",
      "text/plain": [
       "<Figure size 432x288 with 1 Axes>"
      ]
     },
     "metadata": {
      "needs_background": "light"
     },
     "output_type": "display_data"
    }
   ],
   "source": [
    "# code to graph those proportion of differen smoking groups using matplotlib\n",
    "xx_ticks = np.arange(len(smokers.index))\n",
    "fig1, ax1 = plt.subplots()\n",
    "ax1.set_title('Smoking Status')\n",
    "ax1.set_ylabel('percentage')\n",
    "plt.bar(xx_ticks,smokers);\n",
    "plt.xticks(xx_ticks,smokers.index);"
   ]
  },
  {
   "cell_type": "code",
   "execution_count": 25,
   "metadata": {},
   "outputs": [
    {
     "data": {
      "text/plain": [
       "smoker\n",
       "non-smoker    0.859122\n",
       "some days     0.046127\n",
       "everyday      0.089157\n",
       "don't know    0.002668\n",
       "refused       0.002926\n",
       "Name: smoker, dtype: float64"
      ]
     },
     "execution_count": 25,
     "metadata": {},
     "output_type": "execute_result"
    }
   ],
   "source": [
    "smoker_states = tristate[['state','smoker']]\n",
    "smoker_valid = [idx for idx, val in enumerate(smoker_states['smoker']) if val != 'nan']\n",
    "smoker_states = smoker_states.iloc[smoker_valid]\n",
    "\n",
    "smoker_states = smoker_states.groupby(['state','smoker'])['smoker'].count()\n",
    "smoker_count = smoker_states.groupby('state').sum()\n",
    "smoker_pct = smoker_states / smoker_count\n",
    "\n",
    "#smoker_pct['Connecticut'][[2,4,1,0,3]]\n",
    "#smoker_pct['New Jersey'][[2,4,1,0,3]]\n",
    "smoker_pct['New York'][[2,4,1,0,3]]"
   ]
  },
  {
   "cell_type": "code",
   "execution_count": 26,
   "metadata": {},
   "outputs": [
    {
     "data": {
      "image/png": "[encoded data removed]",
      "text/plain": [
       "<Figure size 432x288 with 1 Axes>"
      ]
     },
     "metadata": {
      "needs_background": "light"
     },
     "output_type": "display_data"
    }
   ],
   "source": [
    "nonsmoker = [smoker_pct['Connecticut'][[2]][0],\n",
    "             smoker_pct['New Jersey'][[2]][0],\n",
    "             smoker_pct['New York'][[2]][0]]\n",
    "\n",
    "some_days = [smoker_pct['Connecticut'][[4]][0],\n",
    "             smoker_pct['New Jersey'][[4]][0],\n",
    "             smoker_pct['New York'][[4]][0]]\n",
    "\n",
    "every_day = [smoker_pct['Connecticut'][[1]][0],\n",
    "             smoker_pct['New Jersey'][[1]][0],\n",
    "             smoker_pct['New York'][[1]][0]]\n",
    "\n",
    "smoke_unk = [smoker_pct['Connecticut'][[0]][0],  #+smoker_pct['Connecticut'][[3]][0],\n",
    "             smoker_pct['New Jersey'][[0]][0],   #+smoker_pct['New Jersey'][[3]][0],\n",
    "             smoker_pct['New York'][[0]][0]]     #+smoker_pct['New York'][[3]][0]]\n",
    "\n",
    "none_some = list(np.array(nonsmoker) + np.array(some_days))\n",
    "none_some_unk = list(np.array(nonsmoker) + np.array(some_days) + np.array(every_day))\n",
    "\n",
    "xx_ticks = [0,1,2]\n",
    "fig1, ax1 = plt.subplots()\n",
    "ax1.set_title('Smoking Frequency by State')\n",
    "ax1.set_ylabel('percentage')\n",
    "pns = plt.bar(xx_ticks,nonsmoker,color='lightgray')\n",
    "psd = plt.bar(xx_ticks,some_days,bottom=nonsmoker,color='orange')\n",
    "ped = plt.bar(xx_ticks,every_day,bottom=none_some,color='red')\n",
    "#puk = plt.bar(xx_ticks,every_day,bottom=none_some_unk)\n",
    "plt.xticks(xx_ticks,['Connecticut','New Jersey','New York']);\n",
    "#plt.legend((puk[0],ped[0],psd[0],pns[0]),(\"don't know\",'everyday','somedays','non-smoker'))\n",
    "plt.legend((ped[0],psd[0],pns[0]),('everyday','somedays','non-smoker'),loc='lower right')\n",
    "\n",
    "del nonsmoker, some_days, every_day, none_some, none_some_unk, pns, psd, ped #, puk"
   ]
  },
  {
   "cell_type": "code",
   "execution_count": 27,
   "metadata": {},
   "outputs": [
    {
     "data": {
      "image/png": "[encoded data removed]",
      "text/plain": [
       "<Figure size 432x288 with 1 Axes>"
      ]
     },
     "metadata": {
      "needs_background": "light"
     },
     "output_type": "display_data"
    }
   ],
   "source": [
    "# code to graph these averages sick days for each category of smoking status\n",
    "smoker_health = tristate[['smoker','PHYSHLTH']]\n",
    "smoker_valid = [idx for idx, val in enumerate(smoker_health['smoker']) if val != 'nan']\n",
    "smoker_health = smoker_health.iloc[smoker_valid]\n",
    "health_valid = [idx for idx, val in enumerate(smoker_health['PHYSHLTH']) if val != 'nan']\n",
    "smoker_health = smoker_health.iloc[health_valid]\n",
    "\n",
    "smoker_physhlth = smoker_health.groupby('smoker').mean()\n",
    "smoker_physhlth = smoker_physhlth['PHYSHLTH'][[2,4,1,0,3]]\n",
    "\n",
    "xx_ticks = np.arange(len(smoker_physhlth.index))\n",
    "fig1, ax1 = plt.subplots()\n",
    "ax1.set_title('Average Days Physical Health Not Good by Smoking Status')\n",
    "ax1.set_ylabel('days')\n",
    "plt.bar(xx_ticks,list(smoker_physhlth))\n",
    "plt.xticks(xx_ticks,smoker_physhlth.index);"
   ]
  },
  {
   "cell_type": "markdown",
   "metadata": {},
   "source": [
    "## 7. Independent Variables (continuous):\n",
    "\n",
    "Does the amount of days a person drinks affect the number of days they feel physically ill?\n",
    "To investigate this, let's look at a continuous variable (ALCDAY5) and see how that might impact a person's health. \n",
    "\n",
    "1. Clean up the values.\n",
    "2. Calculate the descriptive statistics of the variable.\n",
    "3. Generate a histogram for the variable.\n",
    "4. Generate graphics that show how the responses to this variable might differ by state.\n",
    "5. Calculate the correlation coefficient between `PHYSHLTH` and `ALCDAY5`.\n",
    "5. Generate a graphic that shows the possible relationship between `PHYSHLTH` and `ALCDAY5`."
   ]
  },
  {
   "cell_type": "code",
   "execution_count": 28,
   "metadata": {},
   "outputs": [],
   "source": [
    "# code here to clean up the ALCDAY5 responses\n",
    "df = tristate\n",
    "df['new_alc'] = df.ALCDAY5.where(df.ALCDAY5 != 888.0, 0)"
   ]
  },
  {
   "cell_type": "code",
   "execution_count": 29,
   "metadata": {},
   "outputs": [
    {
     "data": {
      "text/plain": [
       "0.0      13043\n",
       "201.0     3027\n",
       "202.0     2324\n",
       "101.0     1596\n",
       "203.0     1350\n",
       "102.0     1232\n",
       "230.0     1164\n",
       "205.0     1156\n",
       "204.0     1144\n",
       "210.0      840\n",
       "103.0      782\n",
       "107.0      710\n",
       "220.0      650\n",
       "215.0      590\n",
       "206.0      389\n",
       "104.0      386\n",
       "208.0      369\n",
       "105.0      352\n",
       "207.0      278\n",
       "225.0      265\n",
       "777.0      225\n",
       "999.0      201\n",
       "212.0      144\n",
       "106.0      109\n",
       "228.0       56\n",
       "214.0       53\n",
       "229.0       31\n",
       "209.0       28\n",
       "227.0       24\n",
       "218.0       19\n",
       "226.0       15\n",
       "216.0       15\n",
       "224.0       14\n",
       "222.0       13\n",
       "221.0       13\n",
       "213.0       11\n",
       "211.0       10\n",
       "217.0        7\n",
       "223.0        2\n",
       "219.0        1\n",
       "Name: new_alc, dtype: int64"
      ]
     },
     "execution_count": 29,
     "metadata": {},
     "output_type": "execute_result"
    }
   ],
   "source": [
    "df.new_alc.value_counts()"
   ]
  },
  {
   "cell_type": "code",
   "execution_count": 30,
   "metadata": {},
   "outputs": [],
   "source": [
    "conditions = [\n",
    "    ((df['new_alc'] > 100) & (df['new_alc'] < 108)),\n",
    "    ((df['new_alc'] > 200) & (df['new_alc'] < 231)),\n",
    "    df['new_alc'] == 0.0\n",
    "]\n",
    "\n",
    "choices = [\n",
    "    df.new_alc.values - 100,\n",
    "    df.new_alc.values - 200,\n",
    "    df.new_alc.values\n",
    "]\n",
    "\n",
    "\n",
    "df['new_alc'] = np.select(conditions, choices, default=np.nan)"
   ]
  },
  {
   "cell_type": "code",
   "execution_count": 31,
   "metadata": {
    "scrolled": true
   },
   "outputs": [
    {
     "data": {
      "text/plain": [
       "array([ 1., 30.,  0.,  3.,  4.,  5.,  7., 15.,  2., 20., 14., 10., nan,\n",
       "        8., 29., 27., 26., 16.,  6., 22., 25., 28., 13., 12., 24., 18.,\n",
       "       17., 21., 11.,  9., 19., 23.])"
      ]
     },
     "execution_count": 31,
     "metadata": {},
     "output_type": "execute_result"
    }
   ],
   "source": [
    "df.new_alc.unique()"
   ]
  },
  {
   "cell_type": "code",
   "execution_count": 32,
   "metadata": {},
   "outputs": [],
   "source": [
    "df.new_alc.dropna(inplace=True)"
   ]
  },
  {
   "cell_type": "code",
   "execution_count": 33,
   "metadata": {},
   "outputs": [
    {
     "data": {
      "text/plain": [
       "array([ 1., 30.,  0.,  3.,  4.,  5.,  7., 15.,  2., 20., 14., 10.,  8.,\n",
       "       29., 27., 26., 16.,  6., 22., 25., 28., 13., 12., 24., 18., 17.,\n",
       "       21., 11.,  9., 19., 23.])"
      ]
     },
     "execution_count": 33,
     "metadata": {},
     "output_type": "execute_result"
    }
   ],
   "source": [
    "df.new_alc.unique()"
   ]
  },
  {
   "cell_type": "code",
   "execution_count": 34,
   "metadata": {},
   "outputs": [
    {
     "data": {
      "text/plain": [
       "count    32212.000000\n",
       "mean         3.867596\n",
       "std          6.972380\n",
       "min          0.000000\n",
       "25%          0.000000\n",
       "50%          1.000000\n",
       "75%          4.000000\n",
       "max         30.000000\n",
       "Name: new_alc, dtype: float64"
      ]
     },
     "execution_count": 34,
     "metadata": {},
     "output_type": "execute_result"
    }
   ],
   "source": [
    "df.new_alc.describe()"
   ]
  },
  {
   "cell_type": "code",
   "execution_count": 35,
   "metadata": {},
   "outputs": [
    {
     "data": {
      "text/plain": [
       "<matplotlib.axes._subplots.AxesSubplot at 0x7fa877939810>"
      ]
     },
     "execution_count": 35,
     "metadata": {},
     "output_type": "execute_result"
    },
    {
     "data": {
      "image/png": "[encoded data removed]",
      "text/plain": [
       "<Figure size 432x288 with 1 Axes>"
      ]
     },
     "metadata": {
      "needs_background": "light"
     },
     "output_type": "display_data"
    }
   ],
   "source": [
    "sns.distplot(df.new_alc, hist=True, kde = False)"
   ]
  },
  {
   "cell_type": "code",
   "execution_count": 36,
   "metadata": {},
   "outputs": [
    {
     "data": {
      "text/plain": [
       "0.03462061292339468"
      ]
     },
     "execution_count": 36,
     "metadata": {},
     "output_type": "execute_result"
    }
   ],
   "source": [
    "df.new_alc.corr(df.PHYSHLTH)"
   ]
  },
  {
   "cell_type": "markdown",
   "metadata": {},
   "source": [
    "## 8. Statistical Inference\n"
   ]
  },
  {
   "cell_type": "markdown",
   "metadata": {},
   "source": [
    "- Create a 95% confidence interval for the population mean of physically ill days."
   ]
  },
  {
   "cell_type": "code",
   "execution_count": 37,
   "metadata": {},
   "outputs": [
    {
     "data": {
      "text/plain": [
       "'4.085 +- 0.09079627795475798'"
      ]
     },
     "execution_count": 37,
     "metadata": {},
     "output_type": "execute_result"
    }
   ],
   "source": [
    "#for new_phys column used mean and std from .describe()\n",
    "def confidence (mean, std, n):\n",
    "    z_value = 1.96\n",
    "    \n",
    "    return str(mean) + \" +- \" + str(z_value * (std/n**0.5))\n",
    "\n",
    "confidence(4.085, 8.51, 33747)"
   ]
  },
  {
   "cell_type": "markdown",
   "metadata": {},
   "source": [
    "-  Create a 95% confidence interval for the true proportion of chronically sick people."
   ]
  },
  {
   "cell_type": "code",
   "execution_count": 38,
   "metadata": {},
   "outputs": [
    {
     "data": {
      "text/plain": [
       "'0.123 +- 0.0034588945062944258'"
      ]
     },
     "execution_count": 38,
     "metadata": {},
     "output_type": "execute_result"
    }
   ],
   "source": [
    "confidence(0.123, 0.328, 34545)"
   ]
  },
  {
   "cell_type": "markdown",
   "metadata": {},
   "source": [
    "## 9. Hypothesis Tests "
   ]
  },
  {
   "cell_type": "markdown",
   "metadata": {},
   "source": [
    "**For the follwing questions that require hypothesis tests, you must complete the following:**\n",
    "\n",
    "*1. Write down the null and alternative hypothesis you are testing.* \n",
    "\n",
    "*2. Select the appropriate test and calculate the test statistic and P-values.*\n",
    "\n",
    "*3. Determine the critical value for the 95% confidence interval.*\n",
    "\n",
    "*4. Evaluate the test statistic agains the critical value.*\n",
    "\n",
    "*5. Determine if you reject or fail to reject the null hypothesis and write a sentence explaining the results of your hypothesis test.*  "
   ]
  },
  {
   "cell_type": "markdown",
   "metadata": {},
   "source": [
    "### The following questions are regarding the `PHYSHLTH` variable. \n",
    "- What is the probability of getting this sample mean for days physically ill, if the population mean is 4?\n"
   ]
  },
  {
   "cell_type": "code",
   "execution_count": 39,
   "metadata": {},
   "outputs": [
    {
     "data": {
      "text/plain": [
       "1.8342303621197658"
      ]
     },
     "execution_count": 39,
     "metadata": {},
     "output_type": "execute_result"
    }
   ],
   "source": [
    "# H0 is that our sample mean is equal to the population mean of 4\n",
    "# HA is that our sample mean is greater than our population mean\n",
    "\n",
    "#Using one sample t-test: t-score = sample mean - pop mean / std/sqrt(n)\n",
    "x_hat = 4.085\n",
    "mu = 4\n",
    "s = 8.513\n",
    "n = 33747\n",
    "\n",
    "t_score = (x_hat - mu) / (s / (n**.5))\n",
    "t_score # 1.83423036\n",
    "\n",
    "# t-score of 1.83 is less than our t-critical value of 1.96 for 95% confidence (using z-score because n > 100) \n",
    "# so we cannot reject our null hypothesis and can assume our mean sample is statistically the same as the \n",
    "# population mean"
   ]
  },
  {
   "cell_type": "markdown",
   "metadata": {},
   "source": [
    "- Is there a statistically significant difference between men and women in the number of days a person feels phsyically ill?"
   ]
  },
  {
   "cell_type": "code",
   "execution_count": 40,
   "metadata": {},
   "outputs": [],
   "source": [
    "from scipy import stats"
   ]
  },
  {
   "cell_type": "code",
   "execution_count": 63,
   "metadata": {},
   "outputs": [
    {
     "data": {
      "text/plain": [
       "Ttest_indResult(statistic=-7.3333586565586, pvalue=2.2949494325716564e-13)"
      ]
     },
     "execution_count": 63,
     "metadata": {},
     "output_type": "execute_result"
    }
   ],
   "source": [
    "# H0 is that there is no statistical difference between men and women\n",
    "# HA is that there is a difference between men and women\n",
    "\n",
    "# Stat test is two sample t-test\n",
    "male = df[df.SEX == 1]['new_phys'].dropna()   # Have to drop null for t-test, grab by gender.\n",
    "female = df[df.SEX == 2]['new_phys'].dropna()\n",
    "\n",
    "stats.ttest_ind(male, female) #Ttest_indResult(statistic=-7.3333586565586, pvalue=2.2949494325716564e-13)\n",
    "\n",
    "# t-score of -7.33 is much higher than our t-critical value of 1.96 for 95% confidence (using z-score because n >100)\n",
    "# so we can reject the null hypothesis and accept our alternative that men and women have different means"
   ]
  },
  {
   "cell_type": "markdown",
   "metadata": {},
   "source": [
    "- Perform a statistical test to determine if there statistically significant difference is physical health of people from the three states. "
   ]
  },
  {
   "cell_type": "code",
   "execution_count": 42,
   "metadata": {},
   "outputs": [],
   "source": [
    "ct = df[df._STATE == 9]['new_phys'].dropna()\n",
    "nj = df[df._STATE == 34]['new_phys'].dropna()\n",
    "ny = df[df._STATE == 36]['new_phys'].dropna()"
   ]
  },
  {
   "cell_type": "code",
   "execution_count": 64,
   "metadata": {},
   "outputs": [
    {
     "data": {
      "text/plain": [
       "F_onewayResult(statistic=18.558644605907094, pvalue=8.800607044147037e-09)"
      ]
     },
     "execution_count": 64,
     "metadata": {},
     "output_type": "execute_result"
    }
   ],
   "source": [
    "# H0 is that there is no difference between the mean sick days for the three states\n",
    "# HA is that there is a difference between the mean sick days\n",
    "\n",
    "# testing more than two sample means, so ANOVA to avoid Type 1 error\n",
    "stats.f_oneway(ct, nj, ny)\n",
    "\n",
    "# result: F_onewayResult(statistic=18.558644605907094, pvalue=8.800607044147037e-09)\n",
    "\n",
    "# pvalue is dramatically lower than alpha 0.05 so can reject null hypothesis and accept the alternative that there is\n",
    "# significant difference between the means. An ANOVA does not indicate which means are different, only that the three\n",
    "# are not the same."
   ]
  },
  {
   "cell_type": "markdown",
   "metadata": {},
   "source": [
    "### The following questions are regarding the  `CHRONIC` variable.\n",
    "- What is the probability of drawing this sample proportion if chronically true population proportion is 0.10?"
   ]
  },
  {
   "cell_type": "code",
   "execution_count": 65,
   "metadata": {},
   "outputs": [
    {
     "data": {
      "text/plain": [
       "0    30296\n",
       "1     4249\n",
       "Name: chronic, dtype: int64"
      ]
     },
     "execution_count": 65,
     "metadata": {},
     "output_type": "execute_result"
    }
   ],
   "source": [
    "df.chronic.value_counts()"
   ]
  },
  {
   "cell_type": "code",
   "execution_count": 66,
   "metadata": {},
   "outputs": [
    {
     "name": "stdout",
     "output_type": "stream",
     "text": [
      "Confidence Interval: 0.09683637697595023 0.10316362302404979\n"
     ]
    }
   ],
   "source": [
    "# H0 is that the sample proportion is statistically the same as the population proportion of 0.1\n",
    "# HA is that the sample proportion is statistically different from the population proportiona and thus likely belongs\n",
    "# to a different population\n",
    "\n",
    "# Sample Proportion\n",
    "sample_proportion = 4249/34545  # 0.12299898682877407\n",
    "\n",
    "# Variables\n",
    "p_hat = 0.1\n",
    "z = 1.96\n",
    "n = 34545\n",
    "\n",
    "# Calculate margin of error\n",
    "margin_of_error = z * ((p_hat * (1 - p_hat)) / n)**0.5 # 0.00316362302404978\n",
    "\n",
    "print('Confidence Interval: ' + str((p_hat - margin_of_error)), ((p_hat + margin_of_error)))\n",
    "# Confidence Interval: 0.09683637697595023 0.10316362302404979\n",
    "\n",
    "# Our 95% confidence interval for the 0.1 population proportion is (0.097, 0.103) and this does not include our sample\n",
    "# proportion of 0.123. We can consequently reject our null hypothesis that the sample proportion is included in the \n",
    "# population. "
   ]
  },
  {
   "cell_type": "markdown",
   "metadata": {},
   "source": [
    "- Is there a statistically significant difference in the percentage of men and women who are chronically sick?"
   ]
  },
  {
   "cell_type": "code",
   "execution_count": 67,
   "metadata": {},
   "outputs": [],
   "source": [
    "male_chronic = df[df.SEX == 1]['chronic'].dropna()   # Have to drop null, grab by gender.\n",
    "female_chronic = df[df.SEX == 2]['chronic'].dropna()"
   ]
  },
  {
   "cell_type": "code",
   "execution_count": 68,
   "metadata": {},
   "outputs": [
    {
     "data": {
      "text/plain": [
       "0    13481\n",
       "1     1677\n",
       "Name: chronic, dtype: int64"
      ]
     },
     "execution_count": 68,
     "metadata": {},
     "output_type": "execute_result"
    }
   ],
   "source": [
    "male_chronic.value_counts() # See raw data for proportion. "
   ]
  },
  {
   "cell_type": "code",
   "execution_count": 69,
   "metadata": {},
   "outputs": [
    {
     "data": {
      "text/plain": [
       "0    16797\n",
       "1     2569\n",
       "Name: chronic, dtype: int64"
      ]
     },
     "execution_count": 69,
     "metadata": {},
     "output_type": "execute_result"
    }
   ],
   "source": [
    "female_chronic.value_counts() # See raw data for proportion. "
   ]
  },
  {
   "cell_type": "code",
   "execution_count": 70,
   "metadata": {},
   "outputs": [],
   "source": [
    "# H0 is that the proportion of chronic illness is the same between men and women\n",
    "# HA is that the proportion of chronic illness is different between men and women\n",
    "\n",
    "# Define some variables\n",
    "p1 = len(male_chronic[male_chronic == 1]) / len(male_chronic) # 0.11063464837049743\n",
    "p2 = len(female_chronic[female_chronic == 1]) / len(female_chronic) # 0.13265516885262832\n",
    "\n",
    "p = (len(male_chronic[male_chronic == 1]) + len(female_chronic[female_chronic == 1])) / (len(male_chronic) + len(female_chronic))\n",
    "# 0.1229869076584405\n",
    "\n",
    "# Calculate our t-score: \n",
    "t_score = (p1 - p2) / ((p * (1 - p) * ((1 / len(male_chronic) + (1 / len(female_chronic)))))** 0.5)\n",
    "# t-score: -6.182661387825395\n",
    "\n",
    "# Our t-score is very high and greater than 1.96 so with 95% confidence we can suggest that the two proportions are\n",
    "# not the same, thus rejecting our null hypothesis. "
   ]
  },
  {
   "cell_type": "markdown",
   "metadata": {},
   "source": [
    "- Perform a statistical test to determine if there statistically significant difference is physical health of people from the three states."
   ]
  },
  {
   "cell_type": "code",
   "execution_count": 50,
   "metadata": {},
   "outputs": [],
   "source": [
    "ct_chronic = df[df._STATE == 9]['chronic'].dropna()   # Groupby State and select Chronic column, dropping the null\n",
    "nj_chronic = df[df._STATE == 34]['chronic'].dropna()  # values. \n",
    "ny_chronic = df[df._STATE == 36]['chronic'].dropna()  # "
   ]
  },
  {
   "cell_type": "code",
   "execution_count": 71,
   "metadata": {},
   "outputs": [
    {
     "data": {
      "text/plain": [
       "F_onewayResult(statistic=13.798483896644871, pvalue=1.0227916535970232e-06)"
      ]
     },
     "execution_count": 71,
     "metadata": {},
     "output_type": "execute_result"
    }
   ],
   "source": [
    "# H0 is that there is no difference in chronic illness proportion between the three states. \n",
    "# HA is that there is a difference between the states. \n",
    "\n",
    "# Using an ANOVA: \n",
    "stats.f_oneway(ct_chronic, nj_chronic, ny_chronic)\n",
    "\n",
    "# Our pvalue of 1.0227916535970232e-06 is much smaller than our threshold alpha of 0.05 and thus we can reject our \n",
    "# null hypothesis and determine that there is a difference between the three states for the proportion of chronically\n",
    "# ill citizens. The ANOVA does not provide what states vary from which, just that there is a difference. "
   ]
  },
  {
   "cell_type": "markdown",
   "metadata": {},
   "source": [
    "# 10. Independent Investigation\n",
    "\n",
    "Now that you have invesitgated physical health and chronic sickness and their relationships with states and gender, you will conduct a similar investigation with variables of your choosing. \n",
    "\n",
    "Select a continuous dependent varaible and a binary dependent variable that you would like to investigate. Then select a categorical independent variable with at least 3 groups and for which you will test to see if the response to the independent variable affects outcomes of the dependent variable."
   ]
  },
  {
   "cell_type": "markdown",
   "metadata": {},
   "source": [
    "For your continuous dependent variable perform the following:\n",
    "  - Determine the sample mean and sample standard deviation\n",
    "  - Create a confidence interval for a population mean.\n",
    "  - Perform a two-sample test of means for gender.\n",
    "  - Perform a one-way ANOVA using your categorical independent variable."
   ]
  },
  {
   "cell_type": "markdown",
   "metadata": {},
   "source": [
    "### Michael Grossman, 1976. Correlation between health and schooling."
   ]
  },
  {
   "cell_type": "code",
   "execution_count": 78,
   "metadata": {},
   "outputs": [
    {
     "data": {
      "text/html": [
       "<div>\n",
       "<style scoped>\n",
       "    .dataframe tbody tr th:only-of-type {\n",
       "        vertical-align: middle;\n",
       "    }\n",
       "\n",
       "    .dataframe tbody tr th {\n",
       "        vertical-align: top;\n",
       "    }\n",
       "\n",
       "    .dataframe thead th {\n",
       "        text-align: right;\n",
       "    }\n",
       "</style>\n",
       "<table border=\"1\" class=\"dataframe\">\n",
       "  <thead>\n",
       "    <tr style=\"text-align: right;\">\n",
       "      <th></th>\n",
       "      <th>education</th>\n",
       "      <th>new_phys</th>\n",
       "    </tr>\n",
       "  </thead>\n",
       "  <tbody>\n",
       "    <tr>\n",
       "      <th>49938</th>\n",
       "      <td>college grad</td>\n",
       "      <td>0.0</td>\n",
       "    </tr>\n",
       "    <tr>\n",
       "      <th>49939</th>\n",
       "      <td>some college</td>\n",
       "      <td>0.0</td>\n",
       "    </tr>\n",
       "    <tr>\n",
       "      <th>49940</th>\n",
       "      <td>college grad</td>\n",
       "      <td>2.0</td>\n",
       "    </tr>\n",
       "    <tr>\n",
       "      <th>49941</th>\n",
       "      <td>college grad</td>\n",
       "      <td>0.0</td>\n",
       "    </tr>\n",
       "    <tr>\n",
       "      <th>49942</th>\n",
       "      <td>some college</td>\n",
       "      <td>0.0</td>\n",
       "    </tr>\n",
       "  </tbody>\n",
       "</table>\n",
       "</div>"
      ],
      "text/plain": [
       "          education  new_phys\n",
       "49938  college grad       0.0\n",
       "49939  some college       0.0\n",
       "49940  college grad       2.0\n",
       "49941  college grad       0.0\n",
       "49942  some college       0.0"
      ]
     },
     "execution_count": 78,
     "metadata": {},
     "output_type": "execute_result"
    }
   ],
   "source": [
    "##  relationship between health and education\n",
    "edu_dict = {1:'did not finish',\n",
    "            2:'high school grad',\n",
    "            3:'some college',\n",
    "            4:'college grad',\n",
    "            9:np.nan}\n",
    "df['education'] = df['_EDUCAG'].replace(edu_dict)\n",
    "\n",
    "hlthedu = df[['education','new_phys']].dropna()\n",
    "#hlthedu.shape\n",
    "hlthedu.head()"
   ]
  },
  {
   "cell_type": "code",
   "execution_count": 84,
   "metadata": {},
   "outputs": [
    {
     "data": {
      "text/plain": [
       "education\n",
       "did not finish      7.017364\n",
       "high school grad    5.124061\n",
       "some college        4.650706\n",
       "college grad        2.805341\n",
       "Name: new_phys, dtype: float64"
      ]
     },
     "execution_count": 84,
     "metadata": {},
     "output_type": "execute_result"
    }
   ],
   "source": [
    "##  let's create a table and take a closer look\n",
    "hlthedu_table = hlthedu.groupby('education').mean()['new_phys'][[1,2,3,0]]\n",
    "hlthedu_table"
   ]
  },
  {
   "cell_type": "code",
   "execution_count": 85,
   "metadata": {},
   "outputs": [
    {
     "data": {
      "image/png": "[encoded data removed]",
      "text/plain": [
       "<Figure size 432x288 with 1 Axes>"
      ]
     },
     "metadata": {
      "needs_background": "light"
     },
     "output_type": "display_data"
    }
   ],
   "source": [
    "##  now plot relationship between education and health\n",
    "xx_ticks = np.arange(len(hlthedu_table.index))\n",
    "fig1, ax1 = plt.subplots()\n",
    "ax1.set_title('Mean Days Sick by Education Level')\n",
    "ax1.set_ylabel('Days Sick')\n",
    "plt.bar(xx_ticks,list(hlthedu_table))\n",
    "plt.xticks(xx_ticks,hlthedu_table.index);"
   ]
  },
  {
   "cell_type": "code",
   "execution_count": 81,
   "metadata": {},
   "outputs": [
    {
     "name": "stdout",
     "output_type": "stream",
     "text": [
      "ANOVA test\n",
      "Null Hypothesis:  Number of Days Sick does not depend on Education\n",
      "F-stat:   262.0295\n",
      "p value:    0.0000\n",
      "reject the null hypothesis\n"
     ]
    }
   ],
   "source": [
    "##  run an ANOVA test\n",
    "hlthedu_ftest = stats.f_oneway(\n",
    "    hlthedu['new_phys'][hlthedu['education'] == 'did not finish'],\n",
    "    hlthedu['new_phys'][hlthedu['education'] == 'high school grad'],\n",
    "    hlthedu['new_phys'][hlthedu['education'] == 'some college'],\n",
    "    hlthedu['new_phys'][hlthedu['education'] == 'college grad'])\n",
    "\n",
    "##  print test results\n",
    "print('ANOVA test')\n",
    "print('Null Hypothesis:  Number of Days Sick does not depend on Education')\n",
    "print('F-stat:   ' + str(\"{:.4f}\".format(hlthedu_ftest.statistic)))\n",
    "print('p value:    ' + str(\"{:.4f}\".format(hlthedu_ftest.pvalue)))\n",
    "print('reject the null hypothesis')"
   ]
  },
  {
   "cell_type": "markdown",
   "metadata": {},
   "source": [
    "Select/create a binary variable from the survey questions as you dependent variable and perform the following:\n",
    "  - Create a confidence interval for a population proportion.\n",
    "  - Perform a two proportions z-test using gender.\n",
    "  - Perform a Chi-Square test using your categorical independent variable."
   ]
  },
  {
   "cell_type": "code",
   "execution_count": 56,
   "metadata": {},
   "outputs": [
    {
     "data": {
      "text/plain": [
       "(32682, 2)"
      ]
     },
     "execution_count": 56,
     "metadata": {},
     "output_type": "execute_result"
    }
   ],
   "source": [
    "##  isolate the variables\n",
    "tristate = df\n",
    "smokedu = tristate[['smoker','education']].dropna()\n",
    "smokedu = smokedu.loc[(smokedu.smoker != 'nan')&(smokedu.smoker != \"don't know\")&(smokedu.smoker != 'refused')]\n",
    "smokedu.shape"
   ]
  },
  {
   "cell_type": "code",
   "execution_count": 57,
   "metadata": {},
   "outputs": [
    {
     "data": {
      "text/html": [
       "<div>\n",
       "<style scoped>\n",
       "    .dataframe tbody tr th:only-of-type {\n",
       "        vertical-align: middle;\n",
       "    }\n",
       "\n",
       "    .dataframe tbody tr th {\n",
       "        vertical-align: top;\n",
       "    }\n",
       "\n",
       "    .dataframe thead th {\n",
       "        text-align: right;\n",
       "    }\n",
       "</style>\n",
       "<table border=\"1\" class=\"dataframe\">\n",
       "  <thead>\n",
       "    <tr style=\"text-align: right;\">\n",
       "      <th>smoker</th>\n",
       "      <th>non-smoker</th>\n",
       "      <th>some days</th>\n",
       "      <th>everyday</th>\n",
       "    </tr>\n",
       "    <tr>\n",
       "      <th>education</th>\n",
       "      <th></th>\n",
       "      <th></th>\n",
       "      <th></th>\n",
       "    </tr>\n",
       "  </thead>\n",
       "  <tbody>\n",
       "    <tr>\n",
       "      <th>did not finish</th>\n",
       "      <td>1749</td>\n",
       "      <td>152</td>\n",
       "      <td>333</td>\n",
       "    </tr>\n",
       "    <tr>\n",
       "      <th>high school grad</th>\n",
       "      <td>6445</td>\n",
       "      <td>412</td>\n",
       "      <td>1015</td>\n",
       "    </tr>\n",
       "    <tr>\n",
       "      <th>some college</th>\n",
       "      <td>6540</td>\n",
       "      <td>397</td>\n",
       "      <td>776</td>\n",
       "    </tr>\n",
       "    <tr>\n",
       "      <th>college grad</th>\n",
       "      <td>13918</td>\n",
       "      <td>403</td>\n",
       "      <td>542</td>\n",
       "    </tr>\n",
       "  </tbody>\n",
       "</table>\n",
       "</div>"
      ],
      "text/plain": [
       "smoker            non-smoker  some days  everyday\n",
       "education                                        \n",
       "did not finish          1749        152       333\n",
       "high school grad        6445        412      1015\n",
       "some college            6540        397       776\n",
       "college grad           13918        403       542"
      ]
     },
     "execution_count": 57,
     "metadata": {},
     "output_type": "execute_result"
    }
   ],
   "source": [
    "##  cross-tabulate\n",
    "smokedu_crosstab = pd.crosstab(smokedu['education'],smokedu['smoker'])\n",
    "smokedu_crosstab = smokedu_crosstab.reindex(['did not finish','high school grad','some college','college grad'])\n",
    "smokedu_crosstab = smokedu_crosstab[['non-smoker','some days','everyday']]\n",
    "smokedu_crosstab"
   ]
  },
  {
   "cell_type": "code",
   "execution_count": 58,
   "metadata": {},
   "outputs": [
    {
     "name": "stdout",
     "output_type": "stream",
     "text": [
      "\n",
      "smoking decreases with educational attainment\n"
     ]
    },
    {
     "data": {
      "text/html": [
       "<div>\n",
       "<style scoped>\n",
       "    .dataframe tbody tr th:only-of-type {\n",
       "        vertical-align: middle;\n",
       "    }\n",
       "\n",
       "    .dataframe tbody tr th {\n",
       "        vertical-align: top;\n",
       "    }\n",
       "\n",
       "    .dataframe thead th {\n",
       "        text-align: right;\n",
       "    }\n",
       "</style>\n",
       "<table border=\"1\" class=\"dataframe\">\n",
       "  <thead>\n",
       "    <tr style=\"text-align: right;\">\n",
       "      <th>smoker</th>\n",
       "      <th>non-smoker</th>\n",
       "      <th>some days</th>\n",
       "      <th>everyday</th>\n",
       "    </tr>\n",
       "    <tr>\n",
       "      <th>education</th>\n",
       "      <th></th>\n",
       "      <th></th>\n",
       "      <th></th>\n",
       "    </tr>\n",
       "  </thead>\n",
       "  <tbody>\n",
       "    <tr>\n",
       "      <th>did not finish</th>\n",
       "      <td>0.783</td>\n",
       "      <td>0.068</td>\n",
       "      <td>0.149</td>\n",
       "    </tr>\n",
       "    <tr>\n",
       "      <th>high school grad</th>\n",
       "      <td>0.819</td>\n",
       "      <td>0.052</td>\n",
       "      <td>0.129</td>\n",
       "    </tr>\n",
       "    <tr>\n",
       "      <th>some college</th>\n",
       "      <td>0.848</td>\n",
       "      <td>0.051</td>\n",
       "      <td>0.101</td>\n",
       "    </tr>\n",
       "    <tr>\n",
       "      <th>college grad</th>\n",
       "      <td>0.936</td>\n",
       "      <td>0.027</td>\n",
       "      <td>0.036</td>\n",
       "    </tr>\n",
       "  </tbody>\n",
       "</table>\n",
       "</div>"
      ],
      "text/plain": [
       "smoker            non-smoker  some days  everyday\n",
       "education                                        \n",
       "did not finish         0.783      0.068     0.149\n",
       "high school grad       0.819      0.052     0.129\n",
       "some college           0.848      0.051     0.101\n",
       "college grad           0.936      0.027     0.036"
      ]
     },
     "metadata": {},
     "output_type": "display_data"
    }
   ],
   "source": [
    "##  get distributions by education level\n",
    "smokedu_ctdist = smokedu_crosstab\n",
    "smokedu_ctdist['sum'] = smokedu_ctdist.sum(axis=1)\n",
    "smokedu_ctdist = smokedu_ctdist.iloc[:,0:3].div(smokedu_ctdist[\"sum\"], axis=0)\n",
    "print()\n",
    "print('smoking decreases with educational attainment')\n",
    "display(round(smokedu_ctdist,3))\n",
    "\n",
    "##  clean up\n",
    "smokedu_crosstab = smokedu_crosstab.iloc[:,0:3]\n",
    "#smokedu_crosstab"
   ]
  },
  {
   "cell_type": "code",
   "execution_count": 59,
   "metadata": {},
   "outputs": [
    {
     "name": "stdout",
     "output_type": "stream",
     "text": [
      "Chi-Squared test\n",
      "Null Hypothesis:  Smoking Status does not depend on Education\n",
      "Chi2-stat:  1018.4375\n",
      "p value:       0.0000\n",
      "reject the null hypothesis\n"
     ]
    }
   ],
   "source": [
    "##  calculate the Chi-squared statistic and critical value\n",
    "chi2stat, pvalue, degfree, expected = stats.chi2_contingency(smokedu_crosstab)\n",
    "ci_level = 0.95\n",
    "cvalue = stats.chi2.ppf(ci_level, degfree)\n",
    "\n",
    "##  print test results\n",
    "print('Chi-Squared test')\n",
    "print('Null Hypothesis:  Smoking Status does not depend on Education')\n",
    "print('Chi2-stat:  ' + str(\"{:.4f}\".format(chi2stat)))\n",
    "print('p value:       ' + str(\"{:.4f}\".format(pvalue)))\n",
    "print('reject the null hypothesis')"
   ]
  },
  {
   "cell_type": "code",
   "execution_count": 60,
   "metadata": {},
   "outputs": [],
   "source": [
    "##  take the difference between the two tables\n",
    "##  shows the relationship between education and smoking status\n",
    "#obs_expect = smokedu_crosstab - expected\n",
    "#round(obs_expect,1)"
   ]
  }
 ],
 "metadata": {
  "kernelspec": {
   "display_name": "Python 3",
   "language": "python",
   "name": "python3"
  },
  "language_info": {
   "codemirror_mode": {
    "name": "ipython",
    "version": 3
   },
   "file_extension": ".py",
   "mimetype": "text/x-python",
   "name": "python",
   "nbconvert_exporter": "python",
   "pygments_lexer": "ipython3",
   "version": "3.7.6"
  }
 },
 "nbformat": 4,
 "nbformat_minor": 2
}
